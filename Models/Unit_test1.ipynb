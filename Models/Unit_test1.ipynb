{
  "nbformat": 4,
  "nbformat_minor": 0,
  "metadata": {
    "colab": {
      "name": "Unit_test1.ipynb",
      "provenance": [],
      "collapsed_sections": []
    },
    "kernelspec": {
      "name": "python3",
      "display_name": "Python 3"
    },
    "language_info": {
      "name": "python"
    }
  },
  "cells": [
    {
      "cell_type": "code",
      "metadata": {
        "colab": {
          "base_uri": "https://localhost:8080/"
        },
        "id": "dSP9ixYtA7U1",
        "outputId": "c045d4d0-c596-49aa-afd0-7b6f4adbc90b"
      },
      "source": [
        "from google.colab import drive\n",
        "drive.mount('/content/drive')"
      ],
      "execution_count": 1,
      "outputs": [
        {
          "output_type": "stream",
          "name": "stdout",
          "text": [
            "Mounted at /content/drive\n"
          ]
        }
      ]
    },
    {
      "cell_type": "code",
      "metadata": {
        "colab": {
          "base_uri": "https://localhost:8080/"
        },
        "id": "ezfklUeZAiEI",
        "outputId": "fbf13a9d-e942-40cd-80d2-d14c01711b51"
      },
      "source": [
        "import unittest\n",
        "import numpy as np\n",
        "\n",
        "images = np.load(\"drive/My Drive/Final Year Research/Dataset/Oneplus 5T/datafiles/imageArray.npy\")\n",
        "labels = np.load(\"drive/My Drive/Final Year Research/Dataset/Oneplus 5T/datafiles/labeldata.npy\")\n",
        "rgbarr= np.load(\"drive/My Drive/Final Year Research/Dataset/Oneplus 5T/datafiles/rgbarray.npy\")\n",
        "\n",
        "class Test_PreprocessingDataset(unittest.TestCase):\n",
        "        \n",
        "    def test_image_dimensions(self):\n",
        "        self.assertEqual(images.shape,(3, 200, 300, 400, 3))\n",
        "        self.assertEqual(images[0].shape, (200, 300, 400, 3))\n",
        "        self.assertEqual(images[1].shape, (200, 300, 400, 3))\n",
        "        self.assertEqual(images[2].shape,(200, 300, 400, 3))\n",
        "        self.assertEqual(images[0][0].shape, (300, 400, 3))\n",
        "        print(\"---test_image_dimension_assertions_passed\")\n",
        "\n",
        "    def test_label_set(self):\n",
        "        self.assertEqual(labels.shape,(600,))\n",
        "        self.assertEqual(labels.size, 600)\n",
        "        print(\"---test_label_dimension_assertions_passed\")\n",
        "\n",
        "    def test_rgb_extracted_metrices(self):\n",
        "        self.assertEqual(rgbarr.shape,(600,3))\n",
        "        self.assertEqual(rgbarr.size, 600*3)\n",
        "        print(\"---rgb_extracted_metrices_assertions_passed\")\n",
        "\n",
        "\n",
        "test=Test_PreprocessingDataset()\n",
        "test.setUpClass()\n",
        "test.test_image_dimensions()\n",
        "test.test_label_set()\n",
        "test.test_rgb_extracted_metrices()"
      ],
      "execution_count": 54,
      "outputs": [
        {
          "output_type": "stream",
          "name": "stdout",
          "text": [
            "---test_image_dimension_assertions_passed\n",
            "---test_label_dimension_assertions_passed\n",
            "---rgb_extracted_metrices_assertions_passed\n"
          ]
        }
      ]
    },
    {
      "cell_type": "code",
      "metadata": {
        "colab": {
          "base_uri": "https://localhost:8080/"
        },
        "id": "Px1bcC5YPqxR",
        "outputId": "d1472153-82eb-410f-d6d7-d1d97bf3f8d4"
      },
      "source": [
        "import pandas as pd\n",
        "\n",
        "df=pd.read_csv('drive/My Drive/Final Year Research/Dataset/Oneplus 5T/datafiles/features.csv')\n",
        "\n",
        "class Test_FinalizedData(unittest.TestCase):\n",
        "        \n",
        "    def test_features_and_labels(self):\n",
        "        self.assertEqual(df.columns.size,7)\n",
        "        print(\"---column count of entire dataframe verified\")\n",
        "\n",
        "        self.assertTrue(\"label\" in df.columns)\n",
        "        print(\"---label column is there\")\n",
        "\n",
        "        self.assertTrue(\"red_val\" in df.columns)\n",
        "        print(\"---r value column is there\")\n",
        "\n",
        "        self.assertTrue(\"green_val\" in df.columns)\n",
        "        print(\"---g value column is there\")\n",
        "\n",
        "        self.assertTrue(\"blue_val\" in df.columns)\n",
        "        print(\"---b value column is there\")\n",
        "\n",
        "        self.assertTrue(\"brightness\" in df.columns)\n",
        "        print(\"---brightness value column is there\")\n",
        "\n",
        "        self.assertTrue(\"shutter_speed\" in df.columns)\n",
        "        print(\"---shutter_speed value column is there\")\n",
        "\n",
        "        self.assertTrue(\"exposure_time\" in df.columns)\n",
        "        print(\"--exposure_time column is there\")\n",
        "\n",
        "      \n",
        "        print(\"feature_labels_sets_verified\")\n",
        "\n",
        "\n",
        "\n",
        "test=Test_FinalizedData()\n",
        "test.test_features_and_labels()"
      ],
      "execution_count": 63,
      "outputs": [
        {
          "output_type": "stream",
          "name": "stdout",
          "text": [
            "---column count of entire dataframe verified\n",
            "---label column is there\n",
            "---r value column is there\n",
            "---g value column is there\n",
            "---b value column is there\n",
            "---brightness value column is there\n",
            "---shutter_speed value column is there\n",
            "--exposure_time column is there\n",
            "feature_labels_sets_verified\n"
          ]
        }
      ]
    }
  ]
}