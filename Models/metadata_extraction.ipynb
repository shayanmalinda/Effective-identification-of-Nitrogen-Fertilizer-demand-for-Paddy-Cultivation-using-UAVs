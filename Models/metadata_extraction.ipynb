{
  "nbformat": 4,
  "nbformat_minor": 0,
  "metadata": {
    "colab": {
      "name": "metadata_extraction.ipynb",
      "provenance": [],
      "collapsed_sections": []
    },
    "kernelspec": {
      "name": "python3",
      "display_name": "Python 3"
    },
    "language_info": {
      "name": "python"
    }
  },
  "cells": [
    {
      "cell_type": "code",
      "metadata": {
        "id": "KuBvjMx7bUXM"
      },
      "source": [
        "from google.colab import drive\n",
        "drive.mount('/content/drive')"
      ],
      "execution_count": null,
      "outputs": []
    },
    {
      "cell_type": "code",
      "metadata": {
        "id": "M5h5dqErbb7F"
      },
      "source": [
        "from PIL import Image\n",
        "from PIL.ExifTags import TAGS\n",
        "\n",
        "img = Image.open('/content/drive/My Drive/Final Year Research/Dataset/Oneplus 5T/Level 04/IMG_20210721_100334.jpg')\n",
        "\n",
        "# extract EXIF data\n",
        "exifdata = img.getexif()\n",
        "# iterating over all EXIF data fields\n",
        "for tag_id in exifdata:\n",
        "    # get the tag name, instead of human unreadable tag id\n",
        "    tag = TAGS.get(tag_id, tag_id)\n",
        "    data = exifdata.get(tag_id)\n",
        "    # decode bytes \n",
        "    if isinstance(data, bytes):\n",
        "        data = data.decode()\n",
        "    print(f\"{tag:25}: {data}\")\n"
      ],
      "execution_count": null,
      "outputs": []
    }
  ]
}