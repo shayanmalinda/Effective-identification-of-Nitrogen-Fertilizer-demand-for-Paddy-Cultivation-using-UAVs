{
  "nbformat": 4,
  "nbformat_minor": 0,
  "metadata": {
    "colab": {
      "name": "6_cross_validating.ipynb",
      "provenance": [],
      "collapsed_sections": []
    },
    "kernelspec": {
      "name": "python3",
      "display_name": "Python 3"
    },
    "language_info": {
      "name": "python"
    }
  },
  "cells": [
    {
      "cell_type": "code",
      "metadata": {
        "id": "FIhca0AjH7pN",
        "colab": {
          "base_uri": "https://localhost:8080/"
        },
        "outputId": "c474cb89-0f5f-45ad-bad4-6727b4969d6f"
      },
      "source": [
        "from google.colab import drive\n",
        "drive.mount('/content/drive')"
      ],
      "execution_count": 1,
      "outputs": [
        {
          "output_type": "stream",
          "name": "stdout",
          "text": [
            "Mounted at /content/drive\n"
          ]
        }
      ]
    },
    {
      "cell_type": "code",
      "metadata": {
        "id": "zBII-FNNIEVG"
      },
      "source": [
        "import numpy as np\n",
        "import cv2\n",
        "import matplotlib.pyplot as plt\n",
        "import glob\n",
        "import pandas as pd\n",
        "\n",
        "from sklearn.model_selection import cross_val_score\n",
        "\n",
        "import statsmodels.api as sm\n",
        "from sklearn.preprocessing import MinMaxScaler\n",
        "from sklearn.model_selection import train_test_split as tts\n",
        "from sklearn.metrics import accuracy_score, recall_score, precision_score\n",
        "from sklearn.utils import shuffle\n",
        "\n",
        "import seaborn as sns\n",
        "import matplotlib.pyplot as plt"
      ],
      "execution_count": 7,
      "outputs": []
    },
    {
      "cell_type": "code",
      "metadata": {
        "id": "WunVBCZLJMWn"
      },
      "source": [
        "df=pd.read_csv(\"drive/My Drive/Final Year Research/Dataset/Oneplus 5T/datafiles/rgbarray.csv\")\n",
        "metadata=pd.read_csv('drive/My Drive/Final Year Research/Dataset/Oneplus 5T/datafiles/metadata.csv')\n",
        "labels = np.load(\"drive/My Drive/Final Year Research/Dataset/Oneplus 5T/datafiles/labeldata.npy\")"
      ],
      "execution_count": 3,
      "outputs": []
    },
    {
      "cell_type": "markdown",
      "metadata": {
        "id": "HKm3SAUFJ2Ps"
      },
      "source": [
        "# Modify dataframe for selected features"
      ]
    },
    {
      "cell_type": "code",
      "metadata": {
        "colab": {
          "base_uri": "https://localhost:8080/",
          "height": 424
        },
        "id": "8d2c-402JSqw",
        "outputId": "423b5c9a-fdd0-47a2-9760-9f6956341a19"
      },
      "source": [
        "df['brightness']=metadata['brightness']\n",
        "df['shutter_speed']=metadata['shutter_speed']\n",
        "df['exposure_time']=metadata['exposure_time']\n",
        "#df['iso']=metadata['iso']\n",
        "df"
      ],
      "execution_count": 4,
      "outputs": [
        {
          "output_type": "execute_result",
          "data": {
            "text/html": [
              "\n",
              "  <div id=\"df-8cae7e39-c25c-42b3-b54d-0e312b8f27ff\">\n",
              "    <div class=\"colab-df-container\">\n",
              "      <div>\n",
              "<style scoped>\n",
              "    .dataframe tbody tr th:only-of-type {\n",
              "        vertical-align: middle;\n",
              "    }\n",
              "\n",
              "    .dataframe tbody tr th {\n",
              "        vertical-align: top;\n",
              "    }\n",
              "\n",
              "    .dataframe thead th {\n",
              "        text-align: right;\n",
              "    }\n",
              "</style>\n",
              "<table border=\"1\" class=\"dataframe\">\n",
              "  <thead>\n",
              "    <tr style=\"text-align: right;\">\n",
              "      <th></th>\n",
              "      <th>red_val</th>\n",
              "      <th>green_val</th>\n",
              "      <th>blue_val</th>\n",
              "      <th>brightness</th>\n",
              "      <th>shutter_speed</th>\n",
              "      <th>exposure_time</th>\n",
              "    </tr>\n",
              "  </thead>\n",
              "  <tbody>\n",
              "    <tr>\n",
              "      <th>0</th>\n",
              "      <td>79.521870</td>\n",
              "      <td>109.512877</td>\n",
              "      <td>37.915592</td>\n",
              "      <td>4.85</td>\n",
              "      <td>8.976</td>\n",
              "      <td>0.001984</td>\n",
              "    </tr>\n",
              "    <tr>\n",
              "      <th>1</th>\n",
              "      <td>75.679507</td>\n",
              "      <td>105.365517</td>\n",
              "      <td>36.042771</td>\n",
              "      <td>4.92</td>\n",
              "      <td>9.066</td>\n",
              "      <td>0.001866</td>\n",
              "    </tr>\n",
              "    <tr>\n",
              "      <th>2</th>\n",
              "      <td>73.817239</td>\n",
              "      <td>103.502585</td>\n",
              "      <td>34.868638</td>\n",
              "      <td>4.93</td>\n",
              "      <td>9.109</td>\n",
              "      <td>0.001808</td>\n",
              "    </tr>\n",
              "    <tr>\n",
              "      <th>3</th>\n",
              "      <td>74.141495</td>\n",
              "      <td>102.659802</td>\n",
              "      <td>39.490112</td>\n",
              "      <td>5.03</td>\n",
              "      <td>9.193</td>\n",
              "      <td>0.001709</td>\n",
              "    </tr>\n",
              "    <tr>\n",
              "      <th>4</th>\n",
              "      <td>73.841558</td>\n",
              "      <td>102.396006</td>\n",
              "      <td>38.074632</td>\n",
              "      <td>5.04</td>\n",
              "      <td>9.193</td>\n",
              "      <td>0.001709</td>\n",
              "    </tr>\n",
              "    <tr>\n",
              "      <th>...</th>\n",
              "      <td>...</td>\n",
              "      <td>...</td>\n",
              "      <td>...</td>\n",
              "      <td>...</td>\n",
              "      <td>...</td>\n",
              "      <td>...</td>\n",
              "    </tr>\n",
              "    <tr>\n",
              "      <th>595</th>\n",
              "      <td>83.586370</td>\n",
              "      <td>106.100868</td>\n",
              "      <td>32.502262</td>\n",
              "      <td>5.04</td>\n",
              "      <td>9.024</td>\n",
              "      <td>0.001919</td>\n",
              "    </tr>\n",
              "    <tr>\n",
              "      <th>596</th>\n",
              "      <td>83.258601</td>\n",
              "      <td>94.892797</td>\n",
              "      <td>25.081329</td>\n",
              "      <td>5.51</td>\n",
              "      <td>9.574</td>\n",
              "      <td>0.001311</td>\n",
              "    </tr>\n",
              "    <tr>\n",
              "      <th>597</th>\n",
              "      <td>89.934311</td>\n",
              "      <td>102.587774</td>\n",
              "      <td>27.332004</td>\n",
              "      <td>5.35</td>\n",
              "      <td>9.323</td>\n",
              "      <td>0.001560</td>\n",
              "    </tr>\n",
              "    <tr>\n",
              "      <th>598</th>\n",
              "      <td>56.277831</td>\n",
              "      <td>75.547299</td>\n",
              "      <td>10.651658</td>\n",
              "      <td>5.29</td>\n",
              "      <td>9.367</td>\n",
              "      <td>0.001515</td>\n",
              "    </tr>\n",
              "    <tr>\n",
              "      <th>599</th>\n",
              "      <td>81.737267</td>\n",
              "      <td>103.850478</td>\n",
              "      <td>32.147209</td>\n",
              "      <td>5.32</td>\n",
              "      <td>9.323</td>\n",
              "      <td>0.001560</td>\n",
              "    </tr>\n",
              "  </tbody>\n",
              "</table>\n",
              "<p>600 rows × 6 columns</p>\n",
              "</div>\n",
              "      <button class=\"colab-df-convert\" onclick=\"convertToInteractive('df-8cae7e39-c25c-42b3-b54d-0e312b8f27ff')\"\n",
              "              title=\"Convert this dataframe to an interactive table.\"\n",
              "              style=\"display:none;\">\n",
              "        \n",
              "  <svg xmlns=\"http://www.w3.org/2000/svg\" height=\"24px\"viewBox=\"0 0 24 24\"\n",
              "       width=\"24px\">\n",
              "    <path d=\"M0 0h24v24H0V0z\" fill=\"none\"/>\n",
              "    <path d=\"M18.56 5.44l.94 2.06.94-2.06 2.06-.94-2.06-.94-.94-2.06-.94 2.06-2.06.94zm-11 1L8.5 8.5l.94-2.06 2.06-.94-2.06-.94L8.5 2.5l-.94 2.06-2.06.94zm10 10l.94 2.06.94-2.06 2.06-.94-2.06-.94-.94-2.06-.94 2.06-2.06.94z\"/><path d=\"M17.41 7.96l-1.37-1.37c-.4-.4-.92-.59-1.43-.59-.52 0-1.04.2-1.43.59L10.3 9.45l-7.72 7.72c-.78.78-.78 2.05 0 2.83L4 21.41c.39.39.9.59 1.41.59.51 0 1.02-.2 1.41-.59l7.78-7.78 2.81-2.81c.8-.78.8-2.07 0-2.86zM5.41 20L4 18.59l7.72-7.72 1.47 1.35L5.41 20z\"/>\n",
              "  </svg>\n",
              "      </button>\n",
              "      \n",
              "  <style>\n",
              "    .colab-df-container {\n",
              "      display:flex;\n",
              "      flex-wrap:wrap;\n",
              "      gap: 12px;\n",
              "    }\n",
              "\n",
              "    .colab-df-convert {\n",
              "      background-color: #E8F0FE;\n",
              "      border: none;\n",
              "      border-radius: 50%;\n",
              "      cursor: pointer;\n",
              "      display: none;\n",
              "      fill: #1967D2;\n",
              "      height: 32px;\n",
              "      padding: 0 0 0 0;\n",
              "      width: 32px;\n",
              "    }\n",
              "\n",
              "    .colab-df-convert:hover {\n",
              "      background-color: #E2EBFA;\n",
              "      box-shadow: 0px 1px 2px rgba(60, 64, 67, 0.3), 0px 1px 3px 1px rgba(60, 64, 67, 0.15);\n",
              "      fill: #174EA6;\n",
              "    }\n",
              "\n",
              "    [theme=dark] .colab-df-convert {\n",
              "      background-color: #3B4455;\n",
              "      fill: #D2E3FC;\n",
              "    }\n",
              "\n",
              "    [theme=dark] .colab-df-convert:hover {\n",
              "      background-color: #434B5C;\n",
              "      box-shadow: 0px 1px 3px 1px rgba(0, 0, 0, 0.15);\n",
              "      filter: drop-shadow(0px 1px 2px rgba(0, 0, 0, 0.3));\n",
              "      fill: #FFFFFF;\n",
              "    }\n",
              "  </style>\n",
              "\n",
              "      <script>\n",
              "        const buttonEl =\n",
              "          document.querySelector('#df-8cae7e39-c25c-42b3-b54d-0e312b8f27ff button.colab-df-convert');\n",
              "        buttonEl.style.display =\n",
              "          google.colab.kernel.accessAllowed ? 'block' : 'none';\n",
              "\n",
              "        async function convertToInteractive(key) {\n",
              "          const element = document.querySelector('#df-8cae7e39-c25c-42b3-b54d-0e312b8f27ff');\n",
              "          const dataTable =\n",
              "            await google.colab.kernel.invokeFunction('convertToInteractive',\n",
              "                                                     [key], {});\n",
              "          if (!dataTable) return;\n",
              "\n",
              "          const docLinkHtml = 'Like what you see? Visit the ' +\n",
              "            '<a target=\"_blank\" href=https://colab.research.google.com/notebooks/data_table.ipynb>data table notebook</a>'\n",
              "            + ' to learn more about interactive tables.';\n",
              "          element.innerHTML = '';\n",
              "          dataTable['output_type'] = 'display_data';\n",
              "          await google.colab.output.renderOutput(dataTable, element);\n",
              "          const docLink = document.createElement('div');\n",
              "          docLink.innerHTML = docLinkHtml;\n",
              "          element.appendChild(docLink);\n",
              "        }\n",
              "      </script>\n",
              "    </div>\n",
              "  </div>\n",
              "  "
            ],
            "text/plain": [
              "       red_val   green_val   blue_val  brightness  shutter_speed  exposure_time\n",
              "0    79.521870  109.512877  37.915592        4.85          8.976       0.001984\n",
              "1    75.679507  105.365517  36.042771        4.92          9.066       0.001866\n",
              "2    73.817239  103.502585  34.868638        4.93          9.109       0.001808\n",
              "3    74.141495  102.659802  39.490112        5.03          9.193       0.001709\n",
              "4    73.841558  102.396006  38.074632        5.04          9.193       0.001709\n",
              "..         ...         ...        ...         ...            ...            ...\n",
              "595  83.586370  106.100868  32.502262        5.04          9.024       0.001919\n",
              "596  83.258601   94.892797  25.081329        5.51          9.574       0.001311\n",
              "597  89.934311  102.587774  27.332004        5.35          9.323       0.001560\n",
              "598  56.277831   75.547299  10.651658        5.29          9.367       0.001515\n",
              "599  81.737267  103.850478  32.147209        5.32          9.323       0.001560\n",
              "\n",
              "[600 rows x 6 columns]"
            ]
          },
          "metadata": {},
          "execution_count": 4
        }
      ]
    },
    {
      "cell_type": "markdown",
      "metadata": {
        "id": "Sb2Cet8pJwKk"
      },
      "source": [
        "#Model training"
      ]
    },
    {
      "cell_type": "code",
      "metadata": {
        "id": "QZcQdayIJTde"
      },
      "source": [
        "X=df[0:]\n",
        "Y=labels\n",
        "X"
      ],
      "execution_count": null,
      "outputs": []
    },
    {
      "cell_type": "code",
      "metadata": {
        "id": "QdN1QpmgJY9X"
      },
      "source": [
        "rs=42\n",
        "X_train, X_test, y_train, y_test = tts(X, Y, test_size=0.25, random_state=rs)"
      ],
      "execution_count": 9,
      "outputs": []
    },
    {
      "cell_type": "markdown",
      "metadata": {
        "id": "vF1dG5kml50b"
      },
      "source": [
        "# Support Vector Machine"
      ]
    },
    {
      "cell_type": "code",
      "metadata": {
        "colab": {
          "base_uri": "https://localhost:8080/"
        },
        "id": "WN6YMev9JcrJ",
        "outputId": "db6eafaf-52a2-40f1-b147-ece0216f89f5"
      },
      "source": [
        "from sklearn.svm import SVC\n",
        "from sklearn.pipeline import make_pipeline\n",
        "from sklearn.preprocessing import StandardScaler\n",
        "\n",
        "clf = make_pipeline(StandardScaler(), SVC(gamma='auto',random_state=rs))\n",
        "\n",
        "scores = cross_val_score(clf, X, Y, cv=100)\n",
        "print(\"%0.2f accuracy with a standard deviation of %0.2f\" % (scores.mean(), scores.std()))\n",
        "\n",
        "means=[cross_val_score(clf, X, Y, cv=i).mean() for i in range(2,120,10)]\n"
      ],
      "execution_count": 41,
      "outputs": [
        {
          "output_type": "stream",
          "name": "stdout",
          "text": [
            "0.95 accuracy with a standard deviation of 0.10\n"
          ]
        }
      ]
    },
    {
      "cell_type": "code",
      "source": [
        "plt.title(\"Validation Curve with SVM\")\n",
        "plt.xlabel(\"Round\")\n",
        "plt.ylabel(\"Mean accuracy Score\")\n",
        "plt.plot(np.arange(2,120,10,dtype=int),means)"
      ],
      "metadata": {
        "colab": {
          "base_uri": "https://localhost:8080/",
          "height": 312
        },
        "id": "l4z4-iGbjEVO",
        "outputId": "2f67b58e-7453-43f4-b3f4-6a49649375b7"
      },
      "execution_count": 42,
      "outputs": [
        {
          "output_type": "execute_result",
          "data": {
            "text/plain": [
              "[<matplotlib.lines.Line2D at 0x7fdb30c08e90>]"
            ]
          },
          "metadata": {},
          "execution_count": 42
        },
        {
          "output_type": "display_data",
          "data": {
            "image/png": "[encoded data removed]",
            "text/plain": [
              "<Figure size 432x288 with 1 Axes>"
            ]
          },
          "metadata": {
            "needs_background": "light"
          }
        }
      ]
    },
    {
      "cell_type": "markdown",
      "source": [
        "### Accuracy reaches 95% for cross validation rounds count exceeding 100"
      ],
      "metadata": {
        "id": "9FdZAs7jpVNT"
      }
    }
  ]
}