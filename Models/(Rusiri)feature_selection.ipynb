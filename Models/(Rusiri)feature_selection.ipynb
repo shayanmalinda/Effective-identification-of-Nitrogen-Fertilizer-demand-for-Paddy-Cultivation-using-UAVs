{
  "nbformat": 4,
  "nbformat_minor": 0,
  "metadata": {
    "colab": {
      "name": "feature_selection.ipynb",
      "provenance": [],
      "collapsed_sections": []
    },
    "kernelspec": {
      "name": "python3",
      "display_name": "Python 3"
    },
    "language_info": {
      "name": "python"
    }
  },
  "cells": [
    {
      "cell_type": "code",
      "metadata": {
        "colab": {
          "base_uri": "https://localhost:8080/"
        },
        "id": "KJtBeBi1OQDQ",
        "outputId": "bdd19007-d4b5-4290-c5b3-fa9d2564313e"
      },
      "source": [
        "from google.colab import drive\n",
        "drive.mount('/content/drive')\n"
      ],
      "execution_count": null,
      "outputs": [
        {
          "output_type": "stream",
          "name": "stdout",
          "text": [
            "Drive already mounted at /content/drive; to attempt to forcibly remount, call drive.mount(\"/content/drive\", force_remount=True).\n"
          ]
        }
      ]
    },
    {
      "cell_type": "code",
      "metadata": {
        "id": "7AOwgBjfOnWv"
      },
      "source": [
        "import pandas as pd\n",
        "import numpy as np\n",
        "from sklearn.feature_selection import SelectKBest\n",
        "from sklearn.feature_selection import chi2\n",
        "\n",
        "from sklearn.ensemble import ExtraTreesClassifier\n",
        "import matplotlib.pyplot as plt\n",
        "\n",
        "import seaborn as sns"
      ],
      "execution_count": null,
      "outputs": []
    },
    {
      "cell_type": "code",
      "metadata": {
        "colab": {
          "base_uri": "https://localhost:8080/",
          "height": 419
        },
        "id": "cKmfCR1cOCMx",
        "outputId": "e4fb4222-c4df-4c72-a3f7-19f15050328f"
      },
      "source": [
        "#open the csv\n",
        "df=pd.read_csv(\"drive/My Drive/Final Year Research/Dataset/Oneplus 5T/datafiles/features.csv\")\n",
        "df= df.rename({'0': 'red_val', '1': 'green_val','2':'blue_val'}, axis=1) \n",
        "df"
      ],
      "execution_count": null,
      "outputs": [
        {
          "output_type": "execute_result",
          "data": {
            "text/html": [
              "<div>\n",
              "<style scoped>\n",
              "    .dataframe tbody tr th:only-of-type {\n",
              "        vertical-align: middle;\n",
              "    }\n",
              "\n",
              "    .dataframe tbody tr th {\n",
              "        vertical-align: top;\n",
              "    }\n",
              "\n",
              "    .dataframe thead th {\n",
              "        text-align: right;\n",
              "    }\n",
              "</style>\n",
              "<table border=\"1\" class=\"dataframe\">\n",
              "  <thead>\n",
              "    <tr style=\"text-align: right;\">\n",
              "      <th></th>\n",
              "      <th>red_val</th>\n",
              "      <th>green_val</th>\n",
              "      <th>blue_val</th>\n",
              "      <th>brightness</th>\n",
              "      <th>shutter_speed</th>\n",
              "      <th>exposure_time</th>\n",
              "      <th>iso</th>\n",
              "      <th>label</th>\n",
              "    </tr>\n",
              "  </thead>\n",
              "  <tbody>\n",
              "    <tr>\n",
              "      <th>0</th>\n",
              "      <td>79.521870</td>\n",
              "      <td>109.512877</td>\n",
              "      <td>37.915592</td>\n",
              "      <td>4.85</td>\n",
              "      <td>8.976</td>\n",
              "      <td>0.001984</td>\n",
              "      <td>100.0</td>\n",
              "      <td>4</td>\n",
              "    </tr>\n",
              "    <tr>\n",
              "      <th>1</th>\n",
              "      <td>75.679507</td>\n",
              "      <td>105.365517</td>\n",
              "      <td>36.042771</td>\n",
              "      <td>4.92</td>\n",
              "      <td>9.066</td>\n",
              "      <td>0.001866</td>\n",
              "      <td>125.0</td>\n",
              "      <td>4</td>\n",
              "    </tr>\n",
              "    <tr>\n",
              "      <th>2</th>\n",
              "      <td>73.817239</td>\n",
              "      <td>103.502585</td>\n",
              "      <td>34.868638</td>\n",
              "      <td>4.93</td>\n",
              "      <td>9.109</td>\n",
              "      <td>0.001808</td>\n",
              "      <td>125.0</td>\n",
              "      <td>4</td>\n",
              "    </tr>\n",
              "    <tr>\n",
              "      <th>3</th>\n",
              "      <td>74.141495</td>\n",
              "      <td>102.659802</td>\n",
              "      <td>39.490112</td>\n",
              "      <td>5.03</td>\n",
              "      <td>9.193</td>\n",
              "      <td>0.001709</td>\n",
              "      <td>100.0</td>\n",
              "      <td>4</td>\n",
              "    </tr>\n",
              "    <tr>\n",
              "      <th>4</th>\n",
              "      <td>73.841558</td>\n",
              "      <td>102.396006</td>\n",
              "      <td>38.074632</td>\n",
              "      <td>5.04</td>\n",
              "      <td>9.193</td>\n",
              "      <td>0.001709</td>\n",
              "      <td>100.0</td>\n",
              "      <td>4</td>\n",
              "    </tr>\n",
              "    <tr>\n",
              "      <th>...</th>\n",
              "      <td>...</td>\n",
              "      <td>...</td>\n",
              "      <td>...</td>\n",
              "      <td>...</td>\n",
              "      <td>...</td>\n",
              "      <td>...</td>\n",
              "      <td>...</td>\n",
              "      <td>...</td>\n",
              "    </tr>\n",
              "    <tr>\n",
              "      <th>595</th>\n",
              "      <td>83.586370</td>\n",
              "      <td>106.100868</td>\n",
              "      <td>32.502262</td>\n",
              "      <td>5.04</td>\n",
              "      <td>9.024</td>\n",
              "      <td>0.001919</td>\n",
              "      <td>125.0</td>\n",
              "      <td>2</td>\n",
              "    </tr>\n",
              "    <tr>\n",
              "      <th>596</th>\n",
              "      <td>83.258601</td>\n",
              "      <td>94.892797</td>\n",
              "      <td>25.081329</td>\n",
              "      <td>5.51</td>\n",
              "      <td>9.574</td>\n",
              "      <td>0.001311</td>\n",
              "      <td>100.0</td>\n",
              "      <td>2</td>\n",
              "    </tr>\n",
              "    <tr>\n",
              "      <th>597</th>\n",
              "      <td>89.934311</td>\n",
              "      <td>102.587774</td>\n",
              "      <td>27.332004</td>\n",
              "      <td>5.35</td>\n",
              "      <td>9.323</td>\n",
              "      <td>0.001560</td>\n",
              "      <td>125.0</td>\n",
              "      <td>2</td>\n",
              "    </tr>\n",
              "    <tr>\n",
              "      <th>598</th>\n",
              "      <td>56.277831</td>\n",
              "      <td>75.547299</td>\n",
              "      <td>10.651658</td>\n",
              "      <td>5.29</td>\n",
              "      <td>9.367</td>\n",
              "      <td>0.001515</td>\n",
              "      <td>125.0</td>\n",
              "      <td>2</td>\n",
              "    </tr>\n",
              "    <tr>\n",
              "      <th>599</th>\n",
              "      <td>81.737267</td>\n",
              "      <td>103.850478</td>\n",
              "      <td>32.147209</td>\n",
              "      <td>5.32</td>\n",
              "      <td>9.323</td>\n",
              "      <td>0.001560</td>\n",
              "      <td>125.0</td>\n",
              "      <td>2</td>\n",
              "    </tr>\n",
              "  </tbody>\n",
              "</table>\n",
              "<p>600 rows × 8 columns</p>\n",
              "</div>"
            ],
            "text/plain": [
              "       red_val   green_val   blue_val  ...  exposure_time    iso  label\n",
              "0    79.521870  109.512877  37.915592  ...       0.001984  100.0      4\n",
              "1    75.679507  105.365517  36.042771  ...       0.001866  125.0      4\n",
              "2    73.817239  103.502585  34.868638  ...       0.001808  125.0      4\n",
              "3    74.141495  102.659802  39.490112  ...       0.001709  100.0      4\n",
              "4    73.841558  102.396006  38.074632  ...       0.001709  100.0      4\n",
              "..         ...         ...        ...  ...            ...    ...    ...\n",
              "595  83.586370  106.100868  32.502262  ...       0.001919  125.0      2\n",
              "596  83.258601   94.892797  25.081329  ...       0.001311  100.0      2\n",
              "597  89.934311  102.587774  27.332004  ...       0.001560  125.0      2\n",
              "598  56.277831   75.547299  10.651658  ...       0.001515  125.0      2\n",
              "599  81.737267  103.850478  32.147209  ...       0.001560  125.0      2\n",
              "\n",
              "[600 rows x 8 columns]"
            ]
          },
          "metadata": {},
          "execution_count": 3
        }
      ]
    },
    {
      "cell_type": "code",
      "metadata": {
        "id": "CEsukIdROhy3"
      },
      "source": [
        "X=df.drop('label',1)\n",
        "y=df['label']"
      ],
      "execution_count": null,
      "outputs": []
    },
    {
      "cell_type": "markdown",
      "metadata": {
        "id": "sZaxW4B1QNvJ"
      },
      "source": [
        "# 1.\n",
        "Statistical tests can be used to select those features that have the strongest relationship with the output variable.\n",
        "The scikit-learn library provides the SelectKBest class that can be used with a suite of different statistical tests to select a specific number of features.\n",
        "The example below uses the chi-squared (chi²) statistical test for non-negative features to select 7 of the best features "
      ]
    },
    {
      "cell_type": "code",
      "metadata": {
        "colab": {
          "base_uri": "https://localhost:8080/"
        },
        "id": "rnhGO0mxPojM",
        "outputId": "c17b7c8d-2311-4840-ce38-000295087325"
      },
      "source": [
        "from sklearn.feature_selection import f_classif\n",
        "#apply SelectKBest class to extract top 7 best features\n",
        "bestfeatures = SelectKBest(score_func=f_classif, k=7)\n",
        "#bestfeatures = SelectKBest(score_func=chi2, k=7)\n",
        "fit = bestfeatures.fit(X,y)\n",
        "dfscores = pd.DataFrame(fit.scores_)\n",
        "dfcolumns = pd.DataFrame(X.columns)\n",
        "#concat two dataframes for better visualization \n",
        "featureScores = pd.concat([dfcolumns,dfscores],axis=1)\n",
        "featureScores.columns = ['Specs','Score']  #naming the dataframe columns\n",
        "print(featureScores.nlargest(7,'Score'))  #print 7 best features"
      ],
      "execution_count": null,
      "outputs": [
        {
          "output_type": "stream",
          "name": "stdout",
          "text": [
            "           Specs       Score\n",
            "2       blue_val  102.187974\n",
            "0        red_val   45.802413\n",
            "1      green_val   19.583238\n",
            "4  shutter_speed    8.183515\n",
            "5  exposure_time    7.263456\n",
            "3     brightness    5.834040\n",
            "6            iso    4.792775\n"
          ]
        }
      ]
    },
    {
      "cell_type": "markdown",
      "metadata": {
        "id": "h4RhOhUfQTM1"
      },
      "source": [
        "#2.\n",
        "You can get the feature importance of each feature of your dataset by using the feature importance property of the model.\n",
        "Feature importance gives you a score for each feature of your data, the higher the score more important or relevant is the feature towards your output variable.\n",
        "Feature importance is an inbuilt class that comes with Tree Based Classifiers, we will be using Extra Tree Classifier for extracting the top 7 features for the dataset."
      ]
    },
    {
      "cell_type": "code",
      "metadata": {
        "colab": {
          "base_uri": "https://localhost:8080/",
          "height": 299
        },
        "id": "TFVqSrGwQVlp",
        "outputId": "88ed1b62-0bf2-4693-8bff-4cc2883fefc2"
      },
      "source": [
        "model = ExtraTreesClassifier()\n",
        "model.fit(X,y)\n",
        "print(model.feature_importances_) #use inbuilt class feature_importances of tree based classifiers\n",
        "#plot graph of feature importances for better visualization\n",
        "feat_importances = pd.Series(model.feature_importances_, index=X.columns)\n",
        "feat_importances.nlargest(7).plot(kind='barh')\n",
        "plt.show()"
      ],
      "execution_count": null,
      "outputs": [
        {
          "output_type": "stream",
          "name": "stdout",
          "text": [
            "[0.24126267 0.14155176 0.24757234 0.15056221 0.09959496 0.10089186\n",
            " 0.0185642 ]\n"
          ]
        },
        {
          "output_type": "display_data",
          "data": {
            "image/png": "[encoded data removed]",
            "text/plain": [
              "<Figure size 432x288 with 1 Axes>"
            ]
          },
          "metadata": {
            "needs_background": "light"
          }
        }
      ]
    }
  ]
}