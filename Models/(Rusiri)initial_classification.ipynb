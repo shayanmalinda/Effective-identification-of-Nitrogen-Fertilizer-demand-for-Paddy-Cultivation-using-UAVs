{
  "nbformat": 4,
  "nbformat_minor": 0,
  "metadata": {
    "colab": {
      "name": "5_initial_classification.ipynb",
      "provenance": [],
      "collapsed_sections": []
    },
    "kernelspec": {
      "name": "python3",
      "display_name": "Python 3"
    },
    "language_info": {
      "name": "python"
    }
  },
  "cells": [
    {
      "cell_type": "code",
      "metadata": {
        "id": "FIhca0AjH7pN",
        "colab": {
          "base_uri": "https://localhost:8080/"
        },
        "outputId": "5ce9ccf3-42cc-4cab-8341-34f41682e443"
      },
      "source": [
        "from google.colab import drive\n",
        "drive.mount('/content/drive')"
      ],
      "execution_count": 1,
      "outputs": [
        {
          "output_type": "stream",
          "name": "stdout",
          "text": [
            "Mounted at /content/drive\n"
          ]
        }
      ]
    },
    {
      "cell_type": "code",
      "metadata": {
        "id": "zBII-FNNIEVG",
        "colab": {
          "base_uri": "https://localhost:8080/"
        },
        "outputId": "504b5d9e-d141-4207-9f3c-c22d4de2182f"
      },
      "source": [
        "import numpy as np\n",
        "import cv2\n",
        "import matplotlib.pyplot as plt\n",
        "import glob\n",
        "import pandas as pd\n",
        "\n",
        "import statsmodels.api as sm\n",
        "from sklearn.preprocessing import MinMaxScaler\n",
        "from sklearn.model_selection import train_test_split as tts\n",
        "from sklearn.metrics import accuracy_score, recall_score, precision_score\n",
        "from sklearn.utils import shuffle\n",
        "\n",
        "import seaborn as sns\n",
        "import matplotlib.pyplot as plt"
      ],
      "execution_count": 2,
      "outputs": [
        {
          "output_type": "stream",
          "name": "stderr",
          "text": [
            "/usr/local/lib/python3.7/dist-packages/statsmodels/tools/_testing.py:19: FutureWarning: pandas.util.testing is deprecated. Use the functions in the public API at pandas.testing instead.\n",
            "  import pandas.util.testing as tm\n"
          ]
        }
      ]
    },
    {
      "cell_type": "code",
      "metadata": {
        "id": "WunVBCZLJMWn"
      },
      "source": [
        "df=pd.read_csv(\"drive/My Drive/Final Year Research/Dataset/Oneplus 5T/data_files/rgbarray.csv\")\n",
        "metadata=pd.read_csv('drive/My Drive/Final Year Research/Dataset/Oneplus 5T/data_files/metadata.csv')\n",
        "labels = np.load(\"drive/My Drive/Final Year Research/Dataset/Oneplus 5T/data_files/labeldata.npy\")"
      ],
      "execution_count": 10,
      "outputs": []
    },
    {
      "cell_type": "markdown",
      "metadata": {
        "id": "HKm3SAUFJ2Ps"
      },
      "source": [
        "# Modify dataframe for selected features"
      ]
    },
    {
      "cell_type": "code",
      "metadata": {
        "colab": {
          "base_uri": "https://localhost:8080/",
          "height": 424
        },
        "id": "8d2c-402JSqw",
        "outputId": "39050f1c-e777-4217-ebcf-c3b4faed0f14"
      },
      "source": [
        "df['brightness']=metadata['brightness']\n",
        "df['shutter_speed']=metadata['shutter_speed']\n",
        "df['exposure_time']=metadata['exposure_time']\n",
        "#df['iso']=metadata['iso']\n",
        "df"
      ],
      "execution_count": 15,
      "outputs": [
        {
          "output_type": "execute_result",
          "data": {
            "text/html": [
              "\n",
              "  <div id=\"df-f80d605b-c7d3-4448-8255-989459587760\">\n",
              "    <div class=\"colab-df-container\">\n",
              "      <div>\n",
              "<style scoped>\n",
              "    .dataframe tbody tr th:only-of-type {\n",
              "        vertical-align: middle;\n",
              "    }\n",
              "\n",
              "    .dataframe tbody tr th {\n",
              "        vertical-align: top;\n",
              "    }\n",
              "\n",
              "    .dataframe thead th {\n",
              "        text-align: right;\n",
              "    }\n",
              "</style>\n",
              "<table border=\"1\" class=\"dataframe\">\n",
              "  <thead>\n",
              "    <tr style=\"text-align: right;\">\n",
              "      <th></th>\n",
              "      <th>red_val</th>\n",
              "      <th>green_val</th>\n",
              "      <th>blue_val</th>\n",
              "      <th>shutter_speed</th>\n",
              "      <th>brightness</th>\n",
              "      <th>exposure_time</th>\n",
              "    </tr>\n",
              "  </thead>\n",
              "  <tbody>\n",
              "    <tr>\n",
              "      <th>0</th>\n",
              "      <td>61.841728</td>\n",
              "      <td>83.685791</td>\n",
              "      <td>30.381555</td>\n",
              "      <td>9.024</td>\n",
              "      <td>4.97</td>\n",
              "      <td>0.001919</td>\n",
              "    </tr>\n",
              "    <tr>\n",
              "      <th>1</th>\n",
              "      <td>58.776155</td>\n",
              "      <td>80.259737</td>\n",
              "      <td>28.989622</td>\n",
              "      <td>9.024</td>\n",
              "      <td>4.97</td>\n",
              "      <td>0.001919</td>\n",
              "    </tr>\n",
              "    <tr>\n",
              "      <th>2</th>\n",
              "      <td>57.559864</td>\n",
              "      <td>79.052525</td>\n",
              "      <td>28.126113</td>\n",
              "      <td>9.024</td>\n",
              "      <td>4.97</td>\n",
              "      <td>0.001919</td>\n",
              "    </tr>\n",
              "    <tr>\n",
              "      <th>3</th>\n",
              "      <td>58.090181</td>\n",
              "      <td>78.781991</td>\n",
              "      <td>31.884950</td>\n",
              "      <td>9.024</td>\n",
              "      <td>4.97</td>\n",
              "      <td>0.001919</td>\n",
              "    </tr>\n",
              "    <tr>\n",
              "      <th>4</th>\n",
              "      <td>57.787745</td>\n",
              "      <td>78.502028</td>\n",
              "      <td>30.747365</td>\n",
              "      <td>9.024</td>\n",
              "      <td>4.97</td>\n",
              "      <td>0.001919</td>\n",
              "    </tr>\n",
              "    <tr>\n",
              "      <th>...</th>\n",
              "      <td>...</td>\n",
              "      <td>...</td>\n",
              "      <td>...</td>\n",
              "      <td>...</td>\n",
              "      <td>...</td>\n",
              "      <td>...</td>\n",
              "    </tr>\n",
              "    <tr>\n",
              "      <th>771</th>\n",
              "      <td>82.194736</td>\n",
              "      <td>102.484696</td>\n",
              "      <td>31.684638</td>\n",
              "      <td>9.193</td>\n",
              "      <td>5.17</td>\n",
              "      <td>0.001709</td>\n",
              "    </tr>\n",
              "    <tr>\n",
              "      <th>772</th>\n",
              "      <td>81.049292</td>\n",
              "      <td>101.100902</td>\n",
              "      <td>31.487134</td>\n",
              "      <td>9.240</td>\n",
              "      <td>5.19</td>\n",
              "      <td>0.001653</td>\n",
              "    </tr>\n",
              "    <tr>\n",
              "      <th>773</th>\n",
              "      <td>80.883341</td>\n",
              "      <td>101.111931</td>\n",
              "      <td>29.385463</td>\n",
              "      <td>9.193</td>\n",
              "      <td>5.13</td>\n",
              "      <td>0.001709</td>\n",
              "    </tr>\n",
              "    <tr>\n",
              "      <th>774</th>\n",
              "      <td>80.806641</td>\n",
              "      <td>100.844573</td>\n",
              "      <td>29.671693</td>\n",
              "      <td>9.193</td>\n",
              "      <td>5.13</td>\n",
              "      <td>0.001709</td>\n",
              "    </tr>\n",
              "    <tr>\n",
              "      <th>775</th>\n",
              "      <td>81.288360</td>\n",
              "      <td>101.317141</td>\n",
              "      <td>30.076289</td>\n",
              "      <td>9.193</td>\n",
              "      <td>5.14</td>\n",
              "      <td>0.001709</td>\n",
              "    </tr>\n",
              "  </tbody>\n",
              "</table>\n",
              "<p>776 rows × 6 columns</p>\n",
              "</div>\n",
              "      <button class=\"colab-df-convert\" onclick=\"convertToInteractive('df-f80d605b-c7d3-4448-8255-989459587760')\"\n",
              "              title=\"Convert this dataframe to an interactive table.\"\n",
              "              style=\"display:none;\">\n",
              "        \n",
              "  <svg xmlns=\"http://www.w3.org/2000/svg\" height=\"24px\"viewBox=\"0 0 24 24\"\n",
              "       width=\"24px\">\n",
              "    <path d=\"M0 0h24v24H0V0z\" fill=\"none\"/>\n",
              "    <path d=\"M18.56 5.44l.94 2.06.94-2.06 2.06-.94-2.06-.94-.94-2.06-.94 2.06-2.06.94zm-11 1L8.5 8.5l.94-2.06 2.06-.94-2.06-.94L8.5 2.5l-.94 2.06-2.06.94zm10 10l.94 2.06.94-2.06 2.06-.94-2.06-.94-.94-2.06-.94 2.06-2.06.94z\"/><path d=\"M17.41 7.96l-1.37-1.37c-.4-.4-.92-.59-1.43-.59-.52 0-1.04.2-1.43.59L10.3 9.45l-7.72 7.72c-.78.78-.78 2.05 0 2.83L4 21.41c.39.39.9.59 1.41.59.51 0 1.02-.2 1.41-.59l7.78-7.78 2.81-2.81c.8-.78.8-2.07 0-2.86zM5.41 20L4 18.59l7.72-7.72 1.47 1.35L5.41 20z\"/>\n",
              "  </svg>\n",
              "      </button>\n",
              "      \n",
              "  <style>\n",
              "    .colab-df-container {\n",
              "      display:flex;\n",
              "      flex-wrap:wrap;\n",
              "      gap: 12px;\n",
              "    }\n",
              "\n",
              "    .colab-df-convert {\n",
              "      background-color: #E8F0FE;\n",
              "      border: none;\n",
              "      border-radius: 50%;\n",
              "      cursor: pointer;\n",
              "      display: none;\n",
              "      fill: #1967D2;\n",
              "      height: 32px;\n",
              "      padding: 0 0 0 0;\n",
              "      width: 32px;\n",
              "    }\n",
              "\n",
              "    .colab-df-convert:hover {\n",
              "      background-color: #E2EBFA;\n",
              "      box-shadow: 0px 1px 2px rgba(60, 64, 67, 0.3), 0px 1px 3px 1px rgba(60, 64, 67, 0.15);\n",
              "      fill: #174EA6;\n",
              "    }\n",
              "\n",
              "    [theme=dark] .colab-df-convert {\n",
              "      background-color: #3B4455;\n",
              "      fill: #D2E3FC;\n",
              "    }\n",
              "\n",
              "    [theme=dark] .colab-df-convert:hover {\n",
              "      background-color: #434B5C;\n",
              "      box-shadow: 0px 1px 3px 1px rgba(0, 0, 0, 0.15);\n",
              "      filter: drop-shadow(0px 1px 2px rgba(0, 0, 0, 0.3));\n",
              "      fill: #FFFFFF;\n",
              "    }\n",
              "  </style>\n",
              "\n",
              "      <script>\n",
              "        const buttonEl =\n",
              "          document.querySelector('#df-f80d605b-c7d3-4448-8255-989459587760 button.colab-df-convert');\n",
              "        buttonEl.style.display =\n",
              "          google.colab.kernel.accessAllowed ? 'block' : 'none';\n",
              "\n",
              "        async function convertToInteractive(key) {\n",
              "          const element = document.querySelector('#df-f80d605b-c7d3-4448-8255-989459587760');\n",
              "          const dataTable =\n",
              "            await google.colab.kernel.invokeFunction('convertToInteractive',\n",
              "                                                     [key], {});\n",
              "          if (!dataTable) return;\n",
              "\n",
              "          const docLinkHtml = 'Like what you see? Visit the ' +\n",
              "            '<a target=\"_blank\" href=https://colab.research.google.com/notebooks/data_table.ipynb>data table notebook</a>'\n",
              "            + ' to learn more about interactive tables.';\n",
              "          element.innerHTML = '';\n",
              "          dataTable['output_type'] = 'display_data';\n",
              "          await google.colab.output.renderOutput(dataTable, element);\n",
              "          const docLink = document.createElement('div');\n",
              "          docLink.innerHTML = docLinkHtml;\n",
              "          element.appendChild(docLink);\n",
              "        }\n",
              "      </script>\n",
              "    </div>\n",
              "  </div>\n",
              "  "
            ],
            "text/plain": [
              "       red_val   green_val   blue_val  shutter_speed  brightness  exposure_time\n",
              "0    61.841728   83.685791  30.381555          9.024        4.97       0.001919\n",
              "1    58.776155   80.259737  28.989622          9.024        4.97       0.001919\n",
              "2    57.559864   79.052525  28.126113          9.024        4.97       0.001919\n",
              "3    58.090181   78.781991  31.884950          9.024        4.97       0.001919\n",
              "4    57.787745   78.502028  30.747365          9.024        4.97       0.001919\n",
              "..         ...         ...        ...            ...         ...            ...\n",
              "771  82.194736  102.484696  31.684638          9.193        5.17       0.001709\n",
              "772  81.049292  101.100902  31.487134          9.240        5.19       0.001653\n",
              "773  80.883341  101.111931  29.385463          9.193        5.13       0.001709\n",
              "774  80.806641  100.844573  29.671693          9.193        5.13       0.001709\n",
              "775  81.288360  101.317141  30.076289          9.193        5.14       0.001709\n",
              "\n",
              "[776 rows x 6 columns]"
            ]
          },
          "metadata": {},
          "execution_count": 15
        }
      ]
    },
    {
      "cell_type": "markdown",
      "metadata": {
        "id": "Sb2Cet8pJwKk"
      },
      "source": [
        "#Model training"
      ]
    },
    {
      "cell_type": "code",
      "metadata": {
        "colab": {
          "base_uri": "https://localhost:8080/",
          "height": 424
        },
        "id": "QZcQdayIJTde",
        "outputId": "adc2b672-a0f6-4ac8-ca9a-e2476538b5d3"
      },
      "source": [
        "X=df[0:]\n",
        "Y=labels\n",
        "X"
      ],
      "execution_count": 16,
      "outputs": [
        {
          "output_type": "execute_result",
          "data": {
            "text/html": [
              "\n",
              "  <div id=\"df-acdaa5b6-abc6-422c-bf14-235959840849\">\n",
              "    <div class=\"colab-df-container\">\n",
              "      <div>\n",
              "<style scoped>\n",
              "    .dataframe tbody tr th:only-of-type {\n",
              "        vertical-align: middle;\n",
              "    }\n",
              "\n",
              "    .dataframe tbody tr th {\n",
              "        vertical-align: top;\n",
              "    }\n",
              "\n",
              "    .dataframe thead th {\n",
              "        text-align: right;\n",
              "    }\n",
              "</style>\n",
              "<table border=\"1\" class=\"dataframe\">\n",
              "  <thead>\n",
              "    <tr style=\"text-align: right;\">\n",
              "      <th></th>\n",
              "      <th>red_val</th>\n",
              "      <th>green_val</th>\n",
              "      <th>blue_val</th>\n",
              "      <th>shutter_speed</th>\n",
              "      <th>brightness</th>\n",
              "      <th>exposure_time</th>\n",
              "    </tr>\n",
              "  </thead>\n",
              "  <tbody>\n",
              "    <tr>\n",
              "      <th>0</th>\n",
              "      <td>61.841728</td>\n",
              "      <td>83.685791</td>\n",
              "      <td>30.381555</td>\n",
              "      <td>9.024</td>\n",
              "      <td>4.97</td>\n",
              "      <td>0.001919</td>\n",
              "    </tr>\n",
              "    <tr>\n",
              "      <th>1</th>\n",
              "      <td>58.776155</td>\n",
              "      <td>80.259737</td>\n",
              "      <td>28.989622</td>\n",
              "      <td>9.024</td>\n",
              "      <td>4.97</td>\n",
              "      <td>0.001919</td>\n",
              "    </tr>\n",
              "    <tr>\n",
              "      <th>2</th>\n",
              "      <td>57.559864</td>\n",
              "      <td>79.052525</td>\n",
              "      <td>28.126113</td>\n",
              "      <td>9.024</td>\n",
              "      <td>4.97</td>\n",
              "      <td>0.001919</td>\n",
              "    </tr>\n",
              "    <tr>\n",
              "      <th>3</th>\n",
              "      <td>58.090181</td>\n",
              "      <td>78.781991</td>\n",
              "      <td>31.884950</td>\n",
              "      <td>9.024</td>\n",
              "      <td>4.97</td>\n",
              "      <td>0.001919</td>\n",
              "    </tr>\n",
              "    <tr>\n",
              "      <th>4</th>\n",
              "      <td>57.787745</td>\n",
              "      <td>78.502028</td>\n",
              "      <td>30.747365</td>\n",
              "      <td>9.024</td>\n",
              "      <td>4.97</td>\n",
              "      <td>0.001919</td>\n",
              "    </tr>\n",
              "    <tr>\n",
              "      <th>...</th>\n",
              "      <td>...</td>\n",
              "      <td>...</td>\n",
              "      <td>...</td>\n",
              "      <td>...</td>\n",
              "      <td>...</td>\n",
              "      <td>...</td>\n",
              "    </tr>\n",
              "    <tr>\n",
              "      <th>771</th>\n",
              "      <td>82.194736</td>\n",
              "      <td>102.484696</td>\n",
              "      <td>31.684638</td>\n",
              "      <td>9.193</td>\n",
              "      <td>5.17</td>\n",
              "      <td>0.001709</td>\n",
              "    </tr>\n",
              "    <tr>\n",
              "      <th>772</th>\n",
              "      <td>81.049292</td>\n",
              "      <td>101.100902</td>\n",
              "      <td>31.487134</td>\n",
              "      <td>9.240</td>\n",
              "      <td>5.19</td>\n",
              "      <td>0.001653</td>\n",
              "    </tr>\n",
              "    <tr>\n",
              "      <th>773</th>\n",
              "      <td>80.883341</td>\n",
              "      <td>101.111931</td>\n",
              "      <td>29.385463</td>\n",
              "      <td>9.193</td>\n",
              "      <td>5.13</td>\n",
              "      <td>0.001709</td>\n",
              "    </tr>\n",
              "    <tr>\n",
              "      <th>774</th>\n",
              "      <td>80.806641</td>\n",
              "      <td>100.844573</td>\n",
              "      <td>29.671693</td>\n",
              "      <td>9.193</td>\n",
              "      <td>5.13</td>\n",
              "      <td>0.001709</td>\n",
              "    </tr>\n",
              "    <tr>\n",
              "      <th>775</th>\n",
              "      <td>81.288360</td>\n",
              "      <td>101.317141</td>\n",
              "      <td>30.076289</td>\n",
              "      <td>9.193</td>\n",
              "      <td>5.14</td>\n",
              "      <td>0.001709</td>\n",
              "    </tr>\n",
              "  </tbody>\n",
              "</table>\n",
              "<p>776 rows × 6 columns</p>\n",
              "</div>\n",
              "      <button class=\"colab-df-convert\" onclick=\"convertToInteractive('df-acdaa5b6-abc6-422c-bf14-235959840849')\"\n",
              "              title=\"Convert this dataframe to an interactive table.\"\n",
              "              style=\"display:none;\">\n",
              "        \n",
              "  <svg xmlns=\"http://www.w3.org/2000/svg\" height=\"24px\"viewBox=\"0 0 24 24\"\n",
              "       width=\"24px\">\n",
              "    <path d=\"M0 0h24v24H0V0z\" fill=\"none\"/>\n",
              "    <path d=\"M18.56 5.44l.94 2.06.94-2.06 2.06-.94-2.06-.94-.94-2.06-.94 2.06-2.06.94zm-11 1L8.5 8.5l.94-2.06 2.06-.94-2.06-.94L8.5 2.5l-.94 2.06-2.06.94zm10 10l.94 2.06.94-2.06 2.06-.94-2.06-.94-.94-2.06-.94 2.06-2.06.94z\"/><path d=\"M17.41 7.96l-1.37-1.37c-.4-.4-.92-.59-1.43-.59-.52 0-1.04.2-1.43.59L10.3 9.45l-7.72 7.72c-.78.78-.78 2.05 0 2.83L4 21.41c.39.39.9.59 1.41.59.51 0 1.02-.2 1.41-.59l7.78-7.78 2.81-2.81c.8-.78.8-2.07 0-2.86zM5.41 20L4 18.59l7.72-7.72 1.47 1.35L5.41 20z\"/>\n",
              "  </svg>\n",
              "      </button>\n",
              "      \n",
              "  <style>\n",
              "    .colab-df-container {\n",
              "      display:flex;\n",
              "      flex-wrap:wrap;\n",
              "      gap: 12px;\n",
              "    }\n",
              "\n",
              "    .colab-df-convert {\n",
              "      background-color: #E8F0FE;\n",
              "      border: none;\n",
              "      border-radius: 50%;\n",
              "      cursor: pointer;\n",
              "      display: none;\n",
              "      fill: #1967D2;\n",
              "      height: 32px;\n",
              "      padding: 0 0 0 0;\n",
              "      width: 32px;\n",
              "    }\n",
              "\n",
              "    .colab-df-convert:hover {\n",
              "      background-color: #E2EBFA;\n",
              "      box-shadow: 0px 1px 2px rgba(60, 64, 67, 0.3), 0px 1px 3px 1px rgba(60, 64, 67, 0.15);\n",
              "      fill: #174EA6;\n",
              "    }\n",
              "\n",
              "    [theme=dark] .colab-df-convert {\n",
              "      background-color: #3B4455;\n",
              "      fill: #D2E3FC;\n",
              "    }\n",
              "\n",
              "    [theme=dark] .colab-df-convert:hover {\n",
              "      background-color: #434B5C;\n",
              "      box-shadow: 0px 1px 3px 1px rgba(0, 0, 0, 0.15);\n",
              "      filter: drop-shadow(0px 1px 2px rgba(0, 0, 0, 0.3));\n",
              "      fill: #FFFFFF;\n",
              "    }\n",
              "  </style>\n",
              "\n",
              "      <script>\n",
              "        const buttonEl =\n",
              "          document.querySelector('#df-acdaa5b6-abc6-422c-bf14-235959840849 button.colab-df-convert');\n",
              "        buttonEl.style.display =\n",
              "          google.colab.kernel.accessAllowed ? 'block' : 'none';\n",
              "\n",
              "        async function convertToInteractive(key) {\n",
              "          const element = document.querySelector('#df-acdaa5b6-abc6-422c-bf14-235959840849');\n",
              "          const dataTable =\n",
              "            await google.colab.kernel.invokeFunction('convertToInteractive',\n",
              "                                                     [key], {});\n",
              "          if (!dataTable) return;\n",
              "\n",
              "          const docLinkHtml = 'Like what you see? Visit the ' +\n",
              "            '<a target=\"_blank\" href=https://colab.research.google.com/notebooks/data_table.ipynb>data table notebook</a>'\n",
              "            + ' to learn more about interactive tables.';\n",
              "          element.innerHTML = '';\n",
              "          dataTable['output_type'] = 'display_data';\n",
              "          await google.colab.output.renderOutput(dataTable, element);\n",
              "          const docLink = document.createElement('div');\n",
              "          docLink.innerHTML = docLinkHtml;\n",
              "          element.appendChild(docLink);\n",
              "        }\n",
              "      </script>\n",
              "    </div>\n",
              "  </div>\n",
              "  "
            ],
            "text/plain": [
              "       red_val   green_val   blue_val  shutter_speed  brightness  exposure_time\n",
              "0    61.841728   83.685791  30.381555          9.024        4.97       0.001919\n",
              "1    58.776155   80.259737  28.989622          9.024        4.97       0.001919\n",
              "2    57.559864   79.052525  28.126113          9.024        4.97       0.001919\n",
              "3    58.090181   78.781991  31.884950          9.024        4.97       0.001919\n",
              "4    57.787745   78.502028  30.747365          9.024        4.97       0.001919\n",
              "..         ...         ...        ...            ...         ...            ...\n",
              "771  82.194736  102.484696  31.684638          9.193        5.17       0.001709\n",
              "772  81.049292  101.100902  31.487134          9.240        5.19       0.001653\n",
              "773  80.883341  101.111931  29.385463          9.193        5.13       0.001709\n",
              "774  80.806641  100.844573  29.671693          9.193        5.13       0.001709\n",
              "775  81.288360  101.317141  30.076289          9.193        5.14       0.001709\n",
              "\n",
              "[776 rows x 6 columns]"
            ]
          },
          "metadata": {},
          "execution_count": 16
        }
      ]
    },
    {
      "cell_type": "code",
      "metadata": {
        "id": "QdN1QpmgJY9X"
      },
      "source": [
        "rs=42\n",
        "X_train, X_test, y_train, y_test = tts(X, Y, test_size=0.25, random_state=rs)"
      ],
      "execution_count": 17,
      "outputs": []
    },
    {
      "cell_type": "code",
      "source": [
        "import joblib"
      ],
      "metadata": {
        "id": "gN8SU5XXmfOp"
      },
      "execution_count": 18,
      "outputs": []
    },
    {
      "cell_type": "markdown",
      "metadata": {
        "id": "vF1dG5kml50b"
      },
      "source": [
        "# Support Vector Machine"
      ]
    },
    {
      "cell_type": "code",
      "metadata": {
        "colab": {
          "base_uri": "https://localhost:8080/"
        },
        "id": "WN6YMev9JcrJ",
        "outputId": "643d037d-f657-4b4d-b1f5-125a96504bb1"
      },
      "source": [
        "from sklearn.svm import SVC\n",
        "from sklearn.pipeline import make_pipeline\n",
        "from sklearn.preprocessing import StandardScaler\n",
        "\n",
        "from sklearn.naive_bayes import MultinomialNB\n",
        "from sklearn import metrics\n",
        "from sklearn.metrics import confusion_matrix\n",
        "\n",
        "clf = make_pipeline(StandardScaler(), SVC(gamma='auto',random_state=rs))\n",
        "clf.fit(X_train, y_train)\n",
        "\n",
        "# Save the model as a pickle in a file\n",
        "#joblib.dump(clf, 'drive/My Drive/Final Year Research/Dataset/Oneplus 5T/data_files/model.pkl')\n",
        "\n",
        "predicted= clf.predict(X_test)\n",
        "print(\"SVM Accuracy:\",metrics.accuracy_score(y_test, predicted)*100,\"%\")\n",
        "\n",
        "#get the confussion matrix for the model\n",
        "cm =confusion_matrix(y_test, predicted)  \n",
        "print(\"Confussion Matrix : \",cm)"
      ],
      "execution_count": 19,
      "outputs": [
        {
          "output_type": "stream",
          "name": "stdout",
          "text": [
            "SVM Accuracy: 96.3917525773196 %\n",
            "Confussion Matrix :  [[50  3  0  0]\n",
            " [ 3 35  1  0]\n",
            " [ 0  0 54  0]\n",
            " [ 0  0  0 48]]\n"
          ]
        }
      ]
    },
    {
      "cell_type": "code",
      "source": [
        "# Load the model from the file\n",
        "model = joblib.load('drive/My Drive/Final Year Research/Dataset/Oneplus 5T/datafiles/model.pkl')\n",
        " \n",
        "# Use the loaded model to make predictions\n",
        "prd=model.predict(X_test)\n",
        "\n",
        "print(\"SVM Accuracy:\",metrics.accuracy_score(y_test, prd)*100,\"%\")"
      ],
      "metadata": {
        "colab": {
          "base_uri": "https://localhost:8080/"
        },
        "id": "dn19543Zm5Ew",
        "outputId": "84c38b24-774f-4843-cb7b-50c53a66dcc8"
      },
      "execution_count": null,
      "outputs": [
        {
          "output_type": "stream",
          "name": "stdout",
          "text": [
            "SVM Accuracy: 95.33333333333334 %\n"
          ]
        }
      ]
    },
    {
      "cell_type": "markdown",
      "metadata": {
        "id": "5xKobNitl-bT"
      },
      "source": [
        "# Decision Tree"
      ]
    },
    {
      "cell_type": "code",
      "metadata": {
        "colab": {
          "base_uri": "https://localhost:8080/"
        },
        "id": "2s2nfqQuJoME",
        "outputId": "20816296-ccbf-4404-a7a5-961a58b2faa7"
      },
      "source": [
        "from sklearn import tree\n",
        "clf = make_pipeline(StandardScaler(), tree.DecisionTreeClassifier(random_state=rs))\n",
        "#clf = tree.DecisionTreeClassifier()\n",
        "clf.fit(X_train, y_train)\n",
        "\n",
        "predicted= clf.predict(X_test)\n",
        "print(\"Decesion tree Accuracy:\",metrics.accuracy_score(y_test, predicted)*100,\"%\")\n",
        "\n",
        "#get the confussion matrix for the model\n",
        "cm =confusion_matrix(y_test, predicted)  \n",
        "print(\"Confussion Matrix : \",cm)"
      ],
      "execution_count": 20,
      "outputs": [
        {
          "output_type": "stream",
          "name": "stdout",
          "text": [
            "Decesion tree Accuracy: 94.3298969072165 %\n",
            "Confussion Matrix :  [[48  5  0  0]\n",
            " [ 4 35  0  0]\n",
            " [ 0  0 54  0]\n",
            " [ 0  0  2 46]]\n"
          ]
        }
      ]
    }
  ]
}