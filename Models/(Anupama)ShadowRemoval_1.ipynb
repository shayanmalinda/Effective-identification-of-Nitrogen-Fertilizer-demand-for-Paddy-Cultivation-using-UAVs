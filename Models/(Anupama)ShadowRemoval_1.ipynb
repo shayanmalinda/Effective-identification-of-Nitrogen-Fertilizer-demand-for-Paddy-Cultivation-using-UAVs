{
  "nbformat": 4,
  "nbformat_minor": 0,
  "metadata": {
    "colab": {
      "name": "ShadowRemoval.ipynb",
      "provenance": [],
      "authorship_tag": "ABX9TyNRDw/s0PRf4dRrX1iFERKB",
      "include_colab_link": true
    },
    "kernelspec": {
      "name": "python3",
      "display_name": "Python 3"
    },
    "language_info": {
      "name": "python"
    }
  },
  "cells": [
    {
      "cell_type": "markdown",
      "metadata": {
        "id": "view-in-github",
        "colab_type": "text"
      },
      "source": [
        "<a href=\"https://colab.research.google.com/github/shayanmalinda/Effective-identification-of-Nitrogen-Fertilizer-demand-for-Paddy-Cultivation-using-UAVs/blob/anupama/Models/(Anupama)ShadowRemoval_1.ipynb\" target=\"_parent\"><img src=\"https://colab.research.google.com/assets/colab-badge.svg\" alt=\"Open In Colab\"/></a>"
      ]
    },
    {
      "cell_type": "code",
      "metadata": {
        "id": "EdOuhsfvompb"
      },
      "source": [
        "import cv2 as cv\n",
        "import numpy as np\n",
        "\n",
        "from google.colab import files\n",
        "uploaded = files.upload()\n",
        "\n"
      ],
      "execution_count": 4,
      "outputs": []
    },
    {
      "cell_type": "code",
      "metadata": {
        "id": "_tAZz-K5qXSr"
      },
      "source": [
        "img = cv.imread(\"IMG_20210721_100231.jpg\")\n",
        "rgbImage = cv.cvtColor(img, cv.COLOR_BGR2RGB)\n",
        "\n",
        "rgb_planes = cv2.split(img)\n",
        "\n",
        "result_planes = []\n",
        "result_norm_planes = []\n",
        "for plane in rgb_planes:\n",
        "    dilated_img = cv2.dilate(plane, np.ones((7,7), np.uint8))\n",
        "    bg_img = cv2.medianBlur(dilated_img, 21)\n",
        "    diff_img = 255 - cv2.absdiff(plane, bg_img)\n",
        "    norm_img = cv2.normalize(diff_img,None, alpha=0, beta=255, norm_type=cv2.NORM_MINMAX, dtype=cv2.CV_8UC1)\n",
        "    result_planes.append(diff_img)\n",
        "    result_norm_planes.append(norm_img)\n",
        "\n",
        "result = cv2.merge(result_planes)\n",
        "result_norm = cv2.merge(result_norm_planes)\n",
        "\n",
        "\n"
      ],
      "execution_count": 18,
      "outputs": []
    },
    {
      "cell_type": "code",
      "metadata": {
        "id": "0G4tpBFvspmh"
      },
      "source": [
        "from matplotlib import pyplot as plt\n",
        "plt.imshow(img)\n",
        "plt.show()\n",
        "plt.imshow(rgbImage)\n",
        "plt.show()\n",
        "plt.imshow(result)\n",
        "plt.show()\n",
        "plt.imshow(result_norm)\n",
        "plt.show()"
      ],
      "execution_count": null,
      "outputs": []
    }
  ]
}