{
  "nbformat": 4,
  "nbformat_minor": 0,
  "metadata": {
    "colab": {
      "name": "decisiontree_optimalfeatures.ipynb",
      "provenance": []
    },
    "kernelspec": {
      "name": "python3",
      "display_name": "Python 3"
    },
    "language_info": {
      "name": "python"
    }
  },
  "cells": [
    {
      "cell_type": "code",
      "execution_count": 2,
      "metadata": {
        "colab": {
          "base_uri": "https://localhost:8080/"
        },
        "id": "LwQrRHg3Ddo1",
        "outputId": "70c24c92-9ed5-4c4a-fdaf-e1096ac60016"
      },
      "outputs": [
        {
          "output_type": "stream",
          "name": "stdout",
          "text": [
            "Mounted at /content/drive\n"
          ]
        }
      ],
      "source": [
        "from google.colab import drive\n",
        "drive.mount('/content/drive')"
      ]
    },
    {
      "cell_type": "code",
      "source": [
        "import numpy as np\n",
        "import cv2\n",
        "import matplotlib.pyplot as plt\n",
        "import glob\n",
        "import pandas as pd\n",
        "import joblib\n",
        "from sklearn.model_selection import cross_val_score\n",
        "\n",
        "import statsmodels.api as sm\n",
        "from sklearn.preprocessing import MinMaxScaler\n",
        "from sklearn.model_selection import train_test_split as tts\n",
        "from sklearn.metrics import accuracy_score, recall_score, precision_score\n",
        "from sklearn.utils import shuffle\n",
        "from sklearn.pipeline import make_pipeline\n",
        "from sklearn.preprocessing import StandardScaler\n",
        "\n",
        "import seaborn as sns\n",
        "import matplotlib.pyplot as plt"
      ],
      "metadata": {
        "colab": {
          "base_uri": "https://localhost:8080/"
        },
        "id": "dsHFh13_Dm5W",
        "outputId": "1f466116-9eb8-47bc-e247-59488652832d"
      },
      "execution_count": 3,
      "outputs": [
        {
          "output_type": "stream",
          "name": "stderr",
          "text": [
            "/usr/local/lib/python3.7/dist-packages/statsmodels/tools/_testing.py:19: FutureWarning: pandas.util.testing is deprecated. Use the functions in the public API at pandas.testing instead.\n",
            "  import pandas.util.testing as tm\n"
          ]
        }
      ]
    },
    {
      "cell_type": "code",
      "source": [
        "df=pd.read_csv(\"drive/My Drive/Final Year Research/Dataset/Oneplus 5T/data_files/rgbarray.csv\")\n",
        "labels = np.load(\"drive/My Drive/Final Year Research/Dataset/Oneplus 5T/data_files/labeldata.npy\")\n",
        "metadata=pd.read_csv('drive/My Drive/Final Year Research/Dataset/Oneplus 5T/data_files/metadata.csv')\n",
        "rs=42"
      ],
      "metadata": {
        "id": "lRPlHtlpDpyF"
      },
      "execution_count": 4,
      "outputs": []
    },
    {
      "cell_type": "markdown",
      "source": [
        "RGB ONLY"
      ],
      "metadata": {
        "id": "Jh6QkpX-D7KE"
      }
    },
    {
      "cell_type": "code",
      "source": [
        "df=pd.read_csv(\"drive/My Drive/Final Year Research/Dataset/Oneplus 5T/data_files/rgbarray.csv\")\n",
        "\n",
        "X=df\n",
        "Y=labels\n",
        "\n",
        "scaler = StandardScaler()\n",
        "X=scaler.fit_transform(X)\n",
        "\n",
        "from sklearn import tree\n",
        "#clf = make_pipeline(StandardScaler(), tree.DecisionTreeClassifier(random_state=rs))\n",
        "clf = tree.DecisionTreeClassifier(random_state=rs)\n",
        "\n",
        "scores = cross_val_score(clf, X, Y, cv=80)\n",
        "#print(\"%0.2f accuracy with a standard deviation of %0.2f\" % (scores.mean(), scores.std()))\n",
        "\n",
        "means=[cross_val_score(clf, X, Y, cv=i).mean() for i in range(2,120,10)]\n",
        "stds=[cross_val_score(clf, X, Y, cv=i).std() for i in range(2,120,10)]\n",
        "i=1\n",
        "max=means[0]\n",
        "ind=0\n",
        "while i<len(means):\n",
        "  if(max<means[i]):\n",
        "    max=means[i]\n",
        "    ind=i\n",
        "  i+=1\n",
        "\n",
        "print(\"Max Accuracy : \",means[ind])\n",
        "print(\"Standard Deviation : \",stds[ind])\n",
        "\n",
        "plt.title(\"Validation Curve with SVM\")\n",
        "plt.xlabel(\"Round\")\n",
        "plt.ylabel(\"Mean accuracy Score\")\n",
        "plt.plot(np.arange(2,120,10,dtype=int),means)"
      ],
      "metadata": {
        "colab": {
          "base_uri": "https://localhost:8080/",
          "height": 347
        },
        "id": "e7wplYYJDu6T",
        "outputId": "3c9e9f45-bf88-4e7c-957d-4d603cf5e1e5"
      },
      "execution_count": 7,
      "outputs": [
        {
          "output_type": "stream",
          "name": "stdout",
          "text": [
            "Max Accuracy :  0.8654336734693878\n",
            "Standard Deviation :  0.13178883375379066\n"
          ]
        },
        {
          "output_type": "execute_result",
          "data": {
            "text/plain": [
              "[<matplotlib.lines.Line2D at 0x7f1becddcc50>]"
            ]
          },
          "metadata": {},
          "execution_count": 7
        },
        {
          "output_type": "display_data",
          "data": {
            "image/png": "[encoded data removed]",
            "text/plain": [
              "<Figure size 432x288 with 1 Axes>"
            ]
          },
          "metadata": {
            "needs_background": "light"
          }
        }
      ]
    },
    {
      "cell_type": "markdown",
      "source": [
        "RGB with Shutter Speed"
      ],
      "metadata": {
        "id": "JqDn1mw3EFwt"
      }
    },
    {
      "cell_type": "code",
      "source": [
        "df=pd.read_csv(\"drive/My Drive/Final Year Research/Dataset/Oneplus 5T/data_files/rgbarray.csv\")\n",
        "df['shutter_speed']=metadata['shutter_speed']\n",
        "X=df\n",
        "Y=labels\n",
        "\n",
        "#standardize x and y\n",
        "scaler = StandardScaler()\n",
        "X=scaler.fit_transform(X)\n",
        "from sklearn import tree\n",
        "#clf = make_pipeline(StandardScaler(), tree.DecisionTreeClassifier(random_state=rs))\n",
        "clf = tree.DecisionTreeClassifier(random_state=rs)\n",
        "\n",
        "scores = cross_val_score(clf, X, Y, cv=80)\n",
        "#print(\"%0.2f accuracy with a standard deviation of %0.2f\" % (scores.mean(), scores.std()))\n",
        "\n",
        "means=[cross_val_score(clf, X, Y, cv=i).mean() for i in range(2,120,10)]\n",
        "stds=[cross_val_score(clf, X, Y, cv=i).std() for i in range(2,120,10)]\n",
        "i=1\n",
        "max=means[0]\n",
        "ind=0\n",
        "while i<len(means):\n",
        "  if(max<means[i]):\n",
        "    max=means[i]\n",
        "    ind=i\n",
        "  i+=1\n",
        "\n",
        "print(\"Max Accuracy : \",means[ind])\n",
        "print(\"Standard Deviation : \",stds[ind])\n",
        "\n",
        "plt.title(\"Validation Curve with SVM\")\n",
        "plt.xlabel(\"Round\")\n",
        "plt.ylabel(\"Mean accuracy Score\")\n",
        "plt.plot(np.arange(2,120,10,dtype=int),means)"
      ],
      "metadata": {
        "colab": {
          "base_uri": "https://localhost:8080/",
          "height": 347
        },
        "id": "CV7lVux8EhHu",
        "outputId": "32e19881-cc91-405f-c2e2-c31a31578f5e"
      },
      "execution_count": 9,
      "outputs": [
        {
          "output_type": "stream",
          "name": "stdout",
          "text": [
            "Max Accuracy :  0.9307588075880759\n",
            "Standard Deviation :  0.07914589953428953\n"
          ]
        },
        {
          "output_type": "execute_result",
          "data": {
            "text/plain": [
              "[<matplotlib.lines.Line2D at 0x7f1becca0d10>]"
            ]
          },
          "metadata": {},
          "execution_count": 9
        },
        {
          "output_type": "display_data",
          "data": {
            "image/png": "[encoded data removed]",
            "text/plain": [
              "<Figure size 432x288 with 1 Axes>"
            ]
          },
          "metadata": {
            "needs_background": "light"
          }
        }
      ]
    },
    {
      "cell_type": "markdown",
      "source": [
        "RGB with Brightness"
      ],
      "metadata": {
        "id": "vrtIszWIEKN0"
      }
    },
    {
      "cell_type": "code",
      "source": [
        "df=pd.read_csv(\"drive/My Drive/Final Year Research/Dataset/Oneplus 5T/data_files/rgbarray.csv\")\n",
        "\n",
        "df['brightness']=metadata['brightness']\n",
        "X=df\n",
        "Y=labels\n",
        "\n",
        "#standardize x and y\n",
        "scaler = StandardScaler()\n",
        "X=scaler.fit_transform(X)\n",
        "\n",
        "from sklearn import tree\n",
        "#clf = make_pipeline(StandardScaler(), tree.DecisionTreeClassifier(random_state=rs))\n",
        "clf = tree.DecisionTreeClassifier(random_state=rs)\n",
        "\n",
        "scores = cross_val_score(clf, X, Y, cv=80)\n",
        "#print(\"%0.2f accuracy with a standard deviation of %0.2f\" % (scores.mean(), scores.std()))\n",
        "\n",
        "means=[cross_val_score(clf, X, Y, cv=i).mean() for i in range(2,120,10)]\n",
        "stds=[cross_val_score(clf, X, Y, cv=i).std() for i in range(2,120,10)]\n",
        "i=1\n",
        "max=means[0]\n",
        "ind=0\n",
        "while i<len(means):\n",
        "  if(max<means[i]):\n",
        "    max=means[i]\n",
        "    ind=i\n",
        "  i+=1\n",
        "\n",
        "print(\"Max Accuracy : \",means[ind])\n",
        "print(\"Standard Deviation : \",stds[ind])\n",
        "\n",
        "plt.title(\"Validation Curve with SVM\")\n",
        "plt.xlabel(\"Round\")\n",
        "plt.ylabel(\"Mean accuracy Score\")\n",
        "plt.plot(np.arange(2,120,10,dtype=int),means)"
      ],
      "metadata": {
        "colab": {
          "base_uri": "https://localhost:8080/",
          "height": 347
        },
        "id": "7LY9VtDQEgWp",
        "outputId": "2c49ee10-ff8e-4bcc-aed7-a716ffbe99db"
      },
      "execution_count": 10,
      "outputs": [
        {
          "output_type": "stream",
          "name": "stdout",
          "text": [
            "Max Accuracy :  0.9585365853658536\n",
            "Standard Deviation :  0.06345110479299305\n"
          ]
        },
        {
          "output_type": "execute_result",
          "data": {
            "text/plain": [
              "[<matplotlib.lines.Line2D at 0x7f1becc162d0>]"
            ]
          },
          "metadata": {},
          "execution_count": 10
        },
        {
          "output_type": "display_data",
          "data": {
            "image/png": "[encoded data removed]",
            "text/plain": [
              "<Figure size 432x288 with 1 Axes>"
            ]
          },
          "metadata": {
            "needs_background": "light"
          }
        }
      ]
    },
    {
      "cell_type": "markdown",
      "source": [
        "RGB with Exposure TIme"
      ],
      "metadata": {
        "id": "FhYRXcFPEMdJ"
      }
    },
    {
      "cell_type": "code",
      "source": [
        "df=pd.read_csv(\"drive/My Drive/Final Year Research/Dataset/Oneplus 5T/data_files/rgbarray.csv\")\n",
        "\n",
        "df['exposure_time']=metadata['exposure_time']\n",
        "X=df\n",
        "Y=labels\n",
        "\n",
        "#standardize x and y\n",
        "scaler = StandardScaler()\n",
        "X=scaler.fit_transform(X)\n",
        "\n",
        "from sklearn import tree\n",
        "#clf = make_pipeline(StandardScaler(), tree.DecisionTreeClassifier(random_state=rs))\n",
        "clf = tree.DecisionTreeClassifier(random_state=rs)\n",
        "\n",
        "scores = cross_val_score(clf, X, Y, cv=80)\n",
        "#print(\"%0.2f accuracy with a standard deviation of %0.2f\" % (scores.mean(), scores.std()))\n",
        "\n",
        "means=[cross_val_score(clf, X, Y, cv=i).mean() for i in range(2,120,10)]\n",
        "stds=[cross_val_score(clf, X, Y, cv=i).std() for i in range(2,120,10)]\n",
        "i=1\n",
        "max=means[0]\n",
        "ind=0\n",
        "while i<len(means):\n",
        "  if(max<means[i]):\n",
        "    max=means[i]\n",
        "    ind=i\n",
        "  i+=1\n",
        "\n",
        "print(\"Max Accuracy : \",means[ind])\n",
        "print(\"Standard Deviation : \",stds[ind])\n",
        "\n",
        "plt.title(\"Validation Curve with SVM\")\n",
        "plt.xlabel(\"Round\")\n",
        "plt.ylabel(\"Mean accuracy Score\")\n",
        "plt.plot(np.arange(2,120,10,dtype=int),means)"
      ],
      "metadata": {
        "colab": {
          "base_uri": "https://localhost:8080/",
          "height": 347
        },
        "id": "ME2UStm-Ee6n",
        "outputId": "d6dd0561-6a20-4f2e-d557-962d23dcf8f5"
      },
      "execution_count": 11,
      "outputs": [
        {
          "output_type": "stream",
          "name": "stdout",
          "text": [
            "Max Accuracy :  0.9307588075880759\n",
            "Standard Deviation :  0.07914589953428953\n"
          ]
        },
        {
          "output_type": "execute_result",
          "data": {
            "text/plain": [
              "[<matplotlib.lines.Line2D at 0x7f1bed2df450>]"
            ]
          },
          "metadata": {},
          "execution_count": 11
        },
        {
          "output_type": "display_data",
          "data": {
            "image/png": "[encoded data removed]",
            "text/plain": [
              "<Figure size 432x288 with 1 Axes>"
            ]
          },
          "metadata": {
            "needs_background": "light"
          }
        }
      ]
    },
    {
      "cell_type": "markdown",
      "source": [
        "RGB with ISO"
      ],
      "metadata": {
        "id": "GwfFBOzuEPFa"
      }
    },
    {
      "cell_type": "code",
      "source": [
        "df=pd.read_csv(\"drive/My Drive/Final Year Research/Dataset/Oneplus 5T/data_files/rgbarray.csv\")\n",
        "\n",
        "df['iso']=metadata['iso']\n",
        "X=df\n",
        "Y=labels\n",
        "\n",
        "#standardize x and y\n",
        "scaler = StandardScaler()\n",
        "X=scaler.fit_transform(X)\n",
        "\n",
        "from sklearn import tree\n",
        "#clf = make_pipeline(StandardScaler(), tree.DecisionTreeClassifier(random_state=rs))\n",
        "clf = tree.DecisionTreeClassifier(random_state=rs)\n",
        "\n",
        "scores = cross_val_score(clf, X, Y, cv=80)\n",
        "#print(\"%0.2f accuracy with a standard deviation of %0.2f\" % (scores.mean(), scores.std()))\n",
        "\n",
        "means=[cross_val_score(clf, X, Y, cv=i).mean() for i in range(2,120,10)]\n",
        "stds=[cross_val_score(clf, X, Y, cv=i).std() for i in range(2,120,10)]\n",
        "i=1\n",
        "max=means[0]\n",
        "ind=0\n",
        "while i<len(means):\n",
        "  if(max<means[i]):\n",
        "    max=means[i]\n",
        "    ind=i\n",
        "  i+=1\n",
        "\n",
        "print(\"Max Accuracy : \",means[ind])\n",
        "print(\"Standard Deviation : \",stds[ind])\n",
        "\n",
        "plt.title(\"Validation Curve with SVM\")\n",
        "plt.xlabel(\"Round\")\n",
        "plt.ylabel(\"Mean accuracy Score\")\n",
        "plt.plot(np.arange(2,120,10,dtype=int),means)"
      ],
      "metadata": {
        "colab": {
          "base_uri": "https://localhost:8080/",
          "height": 347
        },
        "id": "QxlylFi0EeSO",
        "outputId": "8ef85b23-9478-46ce-cb42-52d511cd3d73"
      },
      "execution_count": 12,
      "outputs": [
        {
          "output_type": "stream",
          "name": "stdout",
          "text": [
            "Max Accuracy :  0.8715447154471545\n",
            "Standard Deviation :  0.12251870373193718\n"
          ]
        },
        {
          "output_type": "execute_result",
          "data": {
            "text/plain": [
              "[<matplotlib.lines.Line2D at 0x7f1becb41e10>]"
            ]
          },
          "metadata": {},
          "execution_count": 12
        },
        {
          "output_type": "display_data",
          "data": {
            "image/png": "[encoded data removed]",
            "text/plain": [
              "<Figure size 432x288 with 1 Axes>"
            ]
          },
          "metadata": {
            "needs_background": "light"
          }
        }
      ]
    },
    {
      "cell_type": "markdown",
      "source": [
        "RGB + All 4 metadata"
      ],
      "metadata": {
        "id": "KvrIJ1CbERY_"
      }
    },
    {
      "cell_type": "code",
      "source": [
        "df=pd.read_csv(\"drive/My Drive/Final Year Research/Dataset/Oneplus 5T/data_files/rgbarray.csv\")\n",
        "\n",
        "df['brightness']=metadata['brightness']\n",
        "df['shutter_speed']=metadata['shutter_speed']\n",
        "df['exposure_time']=metadata['exposure_time']\n",
        "df['iso']=metadata['iso']\n",
        "\n",
        "X=df\n",
        "Y=labels\n",
        "\n",
        "#standardize x and y\n",
        "scaler = StandardScaler()\n",
        "X=scaler.fit_transform(X)\n",
        "\n",
        "from sklearn import tree\n",
        "#clf = make_pipeline(StandardScaler(), tree.DecisionTreeClassifier(random_state=rs))\n",
        "clf = tree.DecisionTreeClassifier(random_state=rs)\n",
        "\n",
        "scores = cross_val_score(clf, X, Y, cv=80)\n",
        "#print(\"%0.2f accuracy with a standard deviation of %0.2f\" % (scores.mean(), scores.std()))\n",
        "\n",
        "means=[cross_val_score(clf, X, Y, cv=i).mean() for i in range(2,120,10)]\n",
        "stds=[cross_val_score(clf, X, Y, cv=i).std() for i in range(2,120,10)]\n",
        "i=1\n",
        "max=means[0]\n",
        "ind=0\n",
        "while i<len(means):\n",
        "  if(max<means[i]):\n",
        "    max=means[i]\n",
        "    ind=i\n",
        "  i+=1\n",
        "\n",
        "print(\"Max Accuracy : \",means[ind])\n",
        "print(\"Standard Deviation : \",stds[ind])\n",
        "\n",
        "plt.title(\"Validation Curve with SVM\")\n",
        "plt.xlabel(\"Round\")\n",
        "plt.ylabel(\"Mean accuracy Score\")\n",
        "plt.plot(np.arange(2,120,10,dtype=int),means)"
      ],
      "metadata": {
        "colab": {
          "base_uri": "https://localhost:8080/",
          "height": 347
        },
        "id": "OfE2Izz3EdpJ",
        "outputId": "2eddc19f-86c7-4839-da92-3f473be9b42b"
      },
      "execution_count": 13,
      "outputs": [
        {
          "output_type": "stream",
          "name": "stdout",
          "text": [
            "Max Accuracy :  0.961111111111111\n",
            "Standard Deviation :  0.06528030036064594\n"
          ]
        },
        {
          "output_type": "execute_result",
          "data": {
            "text/plain": [
              "[<matplotlib.lines.Line2D at 0x7f1becab49d0>]"
            ]
          },
          "metadata": {},
          "execution_count": 13
        },
        {
          "output_type": "display_data",
          "data": {
            "image/png": "[encoded data removed]",
            "text/plain": [
              "<Figure size 432x288 with 1 Axes>"
            ]
          },
          "metadata": {
            "needs_background": "light"
          }
        }
      ]
    },
    {
      "cell_type": "markdown",
      "source": [
        "RGB + ALL 3 metadata( exclude ISO)"
      ],
      "metadata": {
        "id": "uH_NpE9KEXk8"
      }
    },
    {
      "cell_type": "code",
      "source": [
        "df=pd.read_csv(\"drive/My Drive/Final Year Research/Dataset/Oneplus 5T/data_files/rgbarray.csv\")\n",
        "\n",
        "df['brightness']=metadata['brightness']\n",
        "df['shutter_speed']=metadata['shutter_speed']\n",
        "df['exposure_time']=metadata['exposure_time']\n",
        "X=df\n",
        "Y=labels\n",
        "\n",
        "#standardize x and y\n",
        "scaler = StandardScaler()\n",
        "X=scaler.fit_transform(X)\n",
        "\n",
        "from sklearn import tree\n",
        "#clf = make_pipeline(StandardScaler(), tree.DecisionTreeClassifier(random_state=rs))\n",
        "clf = tree.DecisionTreeClassifier(random_state=rs)\n",
        "\n",
        "scores = cross_val_score(clf, X, Y, cv=80)\n",
        "#print(\"%0.2f accuracy with a standard deviation of %0.2f\" % (scores.mean(), scores.std()))\n",
        "\n",
        "means=[cross_val_score(clf, X, Y, cv=i).mean() for i in range(2,120,10)]\n",
        "stds=[cross_val_score(clf, X, Y, cv=i).std() for i in range(2,120,10)]\n",
        "i=1\n",
        "max=means[0]\n",
        "ind=0\n",
        "while i<len(means):\n",
        "  if(max<means[i]):\n",
        "    max=means[i]\n",
        "    ind=i\n",
        "  i+=1\n",
        "\n",
        "print(\"Max Accuracy : \",means[ind])\n",
        "print(\"Standard Deviation : \",stds[ind])\n",
        "\n",
        "plt.title(\"Validation Curve with SVM\")\n",
        "plt.xlabel(\"Round\")\n",
        "plt.ylabel(\"Mean accuracy Score\")\n",
        "plt.plot(np.arange(2,120,10,dtype=int),means)"
      ],
      "metadata": {
        "colab": {
          "base_uri": "https://localhost:8080/",
          "height": 347
        },
        "id": "m5PgZCv1EJfh",
        "outputId": "b8d4537d-e84d-4435-f050-d7e0de07900f"
      },
      "execution_count": 14,
      "outputs": [
        {
          "output_type": "stream",
          "name": "stdout",
          "text": [
            "Max Accuracy :  0.9573170731707317\n",
            "Standard Deviation :  0.06165609451100238\n"
          ]
        },
        {
          "output_type": "execute_result",
          "data": {
            "text/plain": [
              "[<matplotlib.lines.Line2D at 0x7f1beca30b50>]"
            ]
          },
          "metadata": {},
          "execution_count": 14
        },
        {
          "output_type": "display_data",
          "data": {
            "image/png": "[encoded data removed]",
            "text/plain": [
              "<Figure size 432x288 with 1 Axes>"
            ]
          },
          "metadata": {
            "needs_background": "light"
          }
        }
      ]
    },
    {
      "cell_type": "markdown",
      "source": [
        "RGB+ metdata except brightness,ISO"
      ],
      "metadata": {
        "id": "_SnnYbQ4Gpx6"
      }
    },
    {
      "cell_type": "code",
      "source": [
        "df=pd.read_csv(\"drive/My Drive/Final Year Research/Dataset/Oneplus 5T/data_files/rgbarray.csv\")\n",
        "\n",
        "df['shutter_speed']=metadata['shutter_speed']\n",
        "df['exposure_time']=metadata['exposure_time']\n",
        "#df['iso']=metadata['iso']\n",
        "\n",
        "X=df\n",
        "Y=labels\n",
        "\n",
        "#standardize x and y\n",
        "scaler = StandardScaler()\n",
        "X=scaler.fit_transform(X)\n",
        "\n",
        "from sklearn import tree\n",
        "#clf = make_pipeline(StandardScaler(), tree.DecisionTreeClassifier(random_state=rs))\n",
        "clf = tree.DecisionTreeClassifier(random_state=rs)\n",
        "\n",
        "scores = cross_val_score(clf, X, Y, cv=80)\n",
        "#print(\"%0.2f accuracy with a standard deviation of %0.2f\" % (scores.mean(), scores.std()))\n",
        "\n",
        "means=[cross_val_score(clf, X, Y, cv=i).mean() for i in range(2,120,10)]\n",
        "stds=[cross_val_score(clf, X, Y, cv=i).std() for i in range(2,120,10)]\n",
        "i=1\n",
        "max=means[0]\n",
        "ind=0\n",
        "while i<len(means):\n",
        "  if(max<means[i]):\n",
        "    max=means[i]\n",
        "    ind=i\n",
        "  i+=1\n",
        "\n",
        "print(\"Max Accuracy : \",means[ind])\n",
        "print(\"Standard Deviation : \",stds[ind])\n",
        "print(\"Ind \",ind)\n",
        "\n",
        "plt.title(\"Validation Curve with SVM\")\n",
        "plt.xlabel(\"Round\")\n",
        "plt.ylabel(\"Mean accuracy Score\")\n",
        "plt.plot(np.arange(2,120,10,dtype=int),means)"
      ],
      "metadata": {
        "colab": {
          "base_uri": "https://localhost:8080/",
          "height": 364
        },
        "id": "ZQYa_cuxGtM2",
        "outputId": "6ce07374-4eee-4cab-e33c-9bb008f337fc"
      },
      "execution_count": 20,
      "outputs": [
        {
          "output_type": "stream",
          "name": "stdout",
          "text": [
            "Max Accuracy :  0.9319783197831978\n",
            "Standard Deviation :  0.08095318634687737\n",
            "Ind  8\n"
          ]
        },
        {
          "output_type": "execute_result",
          "data": {
            "text/plain": [
              "[<matplotlib.lines.Line2D at 0x7f1bec71c7d0>]"
            ]
          },
          "metadata": {},
          "execution_count": 20
        },
        {
          "output_type": "display_data",
          "data": {
            "image/png": "[encoded data removed]",
            "text/plain": [
              "<Figure size 432x288 with 1 Axes>"
            ]
          },
          "metadata": {
            "needs_background": "light"
          }
        }
      ]
    },
    {
      "cell_type": "markdown",
      "source": [
        "rgb+shutter speed+exposure time"
      ],
      "metadata": {
        "id": "2wdOODIfHrtm"
      }
    },
    {
      "cell_type": "code",
      "source": [
        "from sklearn.model_selection import cross_val_predict\n",
        "from sklearn import metrics\n",
        "#from above results, best split is 1/80=0.0125\n",
        "testsize=1/90\n",
        "print(testsize*Y.size)\n",
        "X_train, X_test, y_train, y_test = tts(X, Y, test_size=testsize, random_state=rs)\n",
        "clf.fit(X_train,y_train)\n",
        "y_pred = clf.predict(X_test)\n",
        "print(\"Dtree Accuracy:\",metrics.accuracy_score(y_test, y_pred)*100,\"%\")\n",
        "#y_pred.size\n",
        "\n",
        "# Save the model as a pickle in a file\n",
        "joblib.dump(clf, 'drive/My Drive/Final Year Research/Dataset/Oneplus 5T/data_files/dtreemodel.pkl')"
      ],
      "metadata": {
        "colab": {
          "base_uri": "https://localhost:8080/"
        },
        "id": "uv3eiUdYH0jV",
        "outputId": "90d67ca9-3ce0-4cb5-bd38-25c11846774d"
      },
      "execution_count": 30,
      "outputs": [
        {
          "output_type": "stream",
          "name": "stdout",
          "text": [
            "8.622222222222222\n",
            "Dtree Accuracy: 100.0 %\n"
          ]
        },
        {
          "output_type": "execute_result",
          "data": {
            "text/plain": [
              "['drive/My Drive/Final Year Research/Dataset/Oneplus 5T/data_files/dtreemodel.pkl']"
            ]
          },
          "metadata": {},
          "execution_count": 30
        }
      ]
    },
    {
      "cell_type": "code",
      "source": [
        "# Load the model from the file\n",
        "model = joblib.load('drive/My Drive/Final Year Research/Dataset/Oneplus 5T/data_files/dtreemodel.pkl')\n",
        " \n",
        "# Use the loaded model to make predictions\n",
        "prd=model.predict(X_test)\n",
        "\n",
        "print(\"Dtree Accuracy:\",metrics.accuracy_score(y_test, prd)*100,\"%\")"
      ],
      "metadata": {
        "colab": {
          "base_uri": "https://localhost:8080/"
        },
        "id": "rdFcvwhyJGDI",
        "outputId": "8c3c4647-bb9b-4931-9eb7-696910d752ef"
      },
      "execution_count": 31,
      "outputs": [
        {
          "output_type": "stream",
          "name": "stdout",
          "text": [
            "Dtree Accuracy: 100.0 %\n"
          ]
        }
      ]
    }
  ]
}