{
  "nbformat": 4,
  "nbformat_minor": 0,
  "metadata": {
    "colab": {
      "name": "decisiontree_optimalfeatures.ipynb",
      "provenance": [],
      "collapsed_sections": []
    },
    "kernelspec": {
      "name": "python3",
      "display_name": "Python 3"
    },
    "language_info": {
      "name": "python"
    }
  },
  "cells": [
    {
      "cell_type": "code",
      "execution_count": 2,
      "metadata": {
        "colab": {
          "base_uri": "https://localhost:8080/"
        },
        "id": "LwQrRHg3Ddo1",
        "outputId": "b8a06bc4-637d-41de-b842-e608cb40f9a6"
      },
      "outputs": [
        {
          "output_type": "stream",
          "name": "stdout",
          "text": [
            "Drive already mounted at /content/drive; to attempt to forcibly remount, call drive.mount(\"/content/drive\", force_remount=True).\n"
          ]
        }
      ],
      "source": [
        "from google.colab import drive\n",
        "drive.mount('/content/drive')"
      ]
    },
    {
      "cell_type": "code",
      "source": [
        "import numpy as np\n",
        "import cv2\n",
        "import matplotlib.pyplot as plt\n",
        "import glob\n",
        "import pandas as pd\n",
        "import joblib\n",
        "from sklearn.model_selection import cross_val_score\n",
        "\n",
        "import statsmodels.api as sm\n",
        "from sklearn.preprocessing import MinMaxScaler\n",
        "from sklearn.model_selection import train_test_split as tts\n",
        "from sklearn.metrics import accuracy_score, recall_score, precision_score\n",
        "from sklearn.utils import shuffle\n",
        "from sklearn.pipeline import make_pipeline\n",
        "from sklearn.preprocessing import StandardScaler\n",
        "\n",
        "import seaborn as sns\n",
        "import matplotlib.pyplot as plt"
      ],
      "metadata": {
        "colab": {
          "base_uri": "https://localhost:8080/"
        },
        "id": "dsHFh13_Dm5W",
        "outputId": "eb404900-1e0d-4c00-a5c4-92751c1ac282"
      },
      "execution_count": 3,
      "outputs": [
        {
          "output_type": "stream",
          "name": "stderr",
          "text": [
            "/usr/local/lib/python3.7/dist-packages/statsmodels/tools/_testing.py:19: FutureWarning: pandas.util.testing is deprecated. Use the functions in the public API at pandas.testing instead.\n",
            "  import pandas.util.testing as tm\n"
          ]
        }
      ]
    },
    {
      "cell_type": "code",
      "source": [
        "df=pd.read_csv(\"drive/My Drive/Final Year Research/Dataset/Oneplus 5T/data_files/rgbarray.csv\")\n",
        "labels = np.load(\"drive/My Drive/Final Year Research/Dataset/Oneplus 5T/data_files/labeldata.npy\")\n",
        "metadata=pd.read_csv('drive/My Drive/Final Year Research/Dataset/Oneplus 5T/data_files/metadata.csv')\n",
        "rs=42"
      ],
      "metadata": {
        "id": "lRPlHtlpDpyF"
      },
      "execution_count": 4,
      "outputs": []
    },
    {
      "cell_type": "markdown",
      "source": [
        "RGB ONLY"
      ],
      "metadata": {
        "id": "Jh6QkpX-D7KE"
      }
    },
    {
      "cell_type": "code",
      "source": [
        "from numpy.ma.core import mean\n",
        "df=pd.read_csv(\"drive/My Drive/Final Year Research/Dataset/Oneplus 5T/data_files/rgbarray.csv\")\n",
        "\n",
        "X=df\n",
        "Y=labels\n",
        "\n",
        "scaler = StandardScaler()\n",
        "X=scaler.fit_transform(X)\n",
        "\n",
        "from sklearn import tree\n",
        "#clf = make_pipeline(StandardScaler(), tree.DecisionTreeClassifier(random_state=rs))\n",
        "clf = tree.DecisionTreeClassifier(random_state=rs)\n",
        "\n",
        "scores = cross_val_score(clf, X, Y, cv=80)\n",
        "#print(\"%0.2f accuracy with a standard deviation of %0.2f\" % (scores.mean(), scores.std()))\n",
        "\n",
        "means=[cross_val_score(clf, X, Y, cv=i).mean() for i in range(2,120,10)]\n",
        "stds=[cross_val_score(clf, X, Y, cv=i).std() for i in range(2,120,10)]\n",
        "i=1\n",
        "max=means[0]\n",
        "ind=0\n",
        "while i<len(means):\n",
        "  if(max<means[i]):\n",
        "    max=means[i]\n",
        "    ind=i\n",
        "  i+=1\n",
        "\n",
        "print(\"Max Accuracy : \",max)\n",
        "print(\"Mean Accuracy : \",mean(means))\n",
        "print(\"Standard Deviation : \",stds[ind])\n",
        "\n",
        "plt.title(\"Validation Curve with Decision Tree\")\n",
        "plt.xlabel(\"Round\")\n",
        "plt.ylabel(\"Mean accuracy Score\")\n",
        "plt.plot(np.arange(2,120,10,dtype=int),means)"
      ],
      "metadata": {
        "colab": {
          "base_uri": "https://localhost:8080/",
          "height": 364
        },
        "id": "e7wplYYJDu6T",
        "outputId": "1ef65b91-bced-4ae1-d29a-172cfc0c370e"
      },
      "execution_count": 17,
      "outputs": [
        {
          "output_type": "stream",
          "name": "stdout",
          "text": [
            "Max Accuracy :  0.8654336734693878\n",
            "Mean Accuracy :  0.8402145673739417\n",
            "Standard Deviation :  0.13178883375379066\n"
          ]
        },
        {
          "output_type": "execute_result",
          "data": {
            "text/plain": [
              "[<matplotlib.lines.Line2D at 0x7ff04322c4d0>]"
            ]
          },
          "metadata": {},
          "execution_count": 17
        },
        {
          "output_type": "display_data",
          "data": {
            "text/plain": [
              "<Figure size 432x288 with 1 Axes>"
            ],
            "image/png": "[encoded data removed]"
          },
          "metadata": {
            "needs_background": "light"
          }
        }
      ]
    },
    {
      "cell_type": "markdown",
      "source": [
        "RGB with Shutter Speed"
      ],
      "metadata": {
        "id": "JqDn1mw3EFwt"
      }
    },
    {
      "cell_type": "code",
      "source": [
        "df=pd.read_csv(\"drive/My Drive/Final Year Research/Dataset/Oneplus 5T/data_files/rgbarray.csv\")\n",
        "df['shutter_speed']=metadata['shutter_speed']\n",
        "X=df\n",
        "Y=labels\n",
        "\n",
        "#standardize x and y\n",
        "scaler = StandardScaler()\n",
        "X=scaler.fit_transform(X)\n",
        "from sklearn import tree\n",
        "#clf = make_pipeline(StandardScaler(), tree.DecisionTreeClassifier(random_state=rs))\n",
        "clf = tree.DecisionTreeClassifier(random_state=rs)\n",
        "\n",
        "scores = cross_val_score(clf, X, Y, cv=80)\n",
        "#print(\"%0.2f accuracy with a standard deviation of %0.2f\" % (scores.mean(), scores.std()))\n",
        "\n",
        "means=[cross_val_score(clf, X, Y, cv=i).mean() for i in range(2,120,10)]\n",
        "stds=[cross_val_score(clf, X, Y, cv=i).std() for i in range(2,120,10)]\n",
        "i=1\n",
        "max=means[0]\n",
        "ind=0\n",
        "while i<len(means):\n",
        "  if(max<means[i]):\n",
        "    max=means[i]\n",
        "    ind=i\n",
        "  i+=1\n",
        "\n",
        "print(\"Max Accuracy : \",max)\n",
        "print(\"Mean Accuracy : \",mean(means))\n",
        "#print(\"Max Accuracy : \",means[ind])\n",
        "print(\"Standard Deviation : \",stds[ind])\n",
        "\n",
        "plt.title(\"Validation Curve with Decision Tree\")\n",
        "plt.xlabel(\"Round\")\n",
        "plt.ylabel(\"Mean accuracy Score\")\n",
        "plt.plot(np.arange(2,120,10,dtype=int),means)"
      ],
      "metadata": {
        "colab": {
          "base_uri": "https://localhost:8080/",
          "height": 364
        },
        "id": "CV7lVux8EhHu",
        "outputId": "fd05be70-0caa-4e08-c6e0-03749e8c58e2"
      },
      "execution_count": 19,
      "outputs": [
        {
          "output_type": "stream",
          "name": "stdout",
          "text": [
            "Max Accuracy :  0.9307588075880759\n",
            "Mean Accuracy :  0.9110389603074874\n",
            "Standard Deviation :  0.07914589953428953\n"
          ]
        },
        {
          "output_type": "execute_result",
          "data": {
            "text/plain": [
              "[<matplotlib.lines.Line2D at 0x7ff0430a5f90>]"
            ]
          },
          "metadata": {},
          "execution_count": 19
        },
        {
          "output_type": "display_data",
          "data": {
            "text/plain": [
              "<Figure size 432x288 with 1 Axes>"
            ],
            "image/png": "[encoded data removed]"
          },
          "metadata": {
            "needs_background": "light"
          }
        }
      ]
    },
    {
      "cell_type": "markdown",
      "source": [
        "RGB with Brightness"
      ],
      "metadata": {
        "id": "vrtIszWIEKN0"
      }
    },
    {
      "cell_type": "code",
      "source": [
        "df=pd.read_csv(\"drive/My Drive/Final Year Research/Dataset/Oneplus 5T/data_files/rgbarray.csv\")\n",
        "\n",
        "df['brightness']=metadata['brightness']\n",
        "X=df\n",
        "Y=labels\n",
        "\n",
        "#standardize x and y\n",
        "scaler = StandardScaler()\n",
        "X=scaler.fit_transform(X)\n",
        "\n",
        "from sklearn import tree\n",
        "#clf = make_pipeline(StandardScaler(), tree.DecisionTreeClassifier(random_state=rs))\n",
        "clf = tree.DecisionTreeClassifier(random_state=rs)\n",
        "\n",
        "scores = cross_val_score(clf, X, Y, cv=80)\n",
        "#print(\"%0.2f accuracy with a standard deviation of %0.2f\" % (scores.mean(), scores.std()))\n",
        "\n",
        "means=[cross_val_score(clf, X, Y, cv=i).mean() for i in range(2,120,10)]\n",
        "stds=[cross_val_score(clf, X, Y, cv=i).std() for i in range(2,120,10)]\n",
        "i=1\n",
        "max=means[0]\n",
        "ind=0\n",
        "while i<len(means):\n",
        "  if(max<means[i]):\n",
        "    max=means[i]\n",
        "    ind=i\n",
        "  i+=1\n",
        "\n",
        "print(\"Max Accuracy : \",max)\n",
        "print(\"Mean Accuracy : \",mean(means))\n",
        "#print(\"Max Accuracy : \",means[ind])\n",
        "\n",
        "plt.title(\"Validation Curve with Decision Tree\")\n",
        "plt.xlabel(\"Round\")\n",
        "plt.ylabel(\"Mean accuracy Score\")\n",
        "plt.plot(np.arange(2,120,10,dtype=int),means)"
      ],
      "metadata": {
        "colab": {
          "base_uri": "https://localhost:8080/",
          "height": 347
        },
        "id": "7LY9VtDQEgWp",
        "outputId": "7265bbed-9491-4f80-d3dc-1d2105d4ecbe"
      },
      "execution_count": 20,
      "outputs": [
        {
          "output_type": "stream",
          "name": "stdout",
          "text": [
            "Max Accuracy :  0.9585365853658536\n",
            "Mean Accuracy :  0.946486856282949\n"
          ]
        },
        {
          "output_type": "execute_result",
          "data": {
            "text/plain": [
              "[<matplotlib.lines.Line2D at 0x7ff04301b310>]"
            ]
          },
          "metadata": {},
          "execution_count": 20
        },
        {
          "output_type": "display_data",
          "data": {
            "text/plain": [
              "<Figure size 432x288 with 1 Axes>"
            ],
            "image/png": "[encoded data removed]"
          },
          "metadata": {
            "needs_background": "light"
          }
        }
      ]
    },
    {
      "cell_type": "markdown",
      "source": [
        "RGB with Exposure TIme"
      ],
      "metadata": {
        "id": "FhYRXcFPEMdJ"
      }
    },
    {
      "cell_type": "code",
      "source": [
        "df=pd.read_csv(\"drive/My Drive/Final Year Research/Dataset/Oneplus 5T/data_files/rgbarray.csv\")\n",
        "\n",
        "df['exposure_time']=metadata['exposure_time']\n",
        "X=df\n",
        "Y=labels\n",
        "\n",
        "#standardize x and y\n",
        "scaler = StandardScaler()\n",
        "X=scaler.fit_transform(X)\n",
        "\n",
        "from sklearn import tree\n",
        "#clf = make_pipeline(StandardScaler(), tree.DecisionTreeClassifier(random_state=rs))\n",
        "clf = tree.DecisionTreeClassifier(random_state=rs)\n",
        "\n",
        "scores = cross_val_score(clf, X, Y, cv=80)\n",
        "#print(\"%0.2f accuracy with a standard deviation of %0.2f\" % (scores.mean(), scores.std()))\n",
        "\n",
        "means=[cross_val_score(clf, X, Y, cv=i).mean() for i in range(2,120,10)]\n",
        "stds=[cross_val_score(clf, X, Y, cv=i).std() for i in range(2,120,10)]\n",
        "i=1\n",
        "max=means[0]\n",
        "ind=0\n",
        "while i<len(means):\n",
        "  if(max<means[i]):\n",
        "    max=means[i]\n",
        "    ind=i\n",
        "  i+=1\n",
        "\n",
        "print(\"Max Accuracy : \",max)\n",
        "print(\"Mean Accuracy : \",mean(means))\n",
        "#print(\"Max Accuracy : \",means[ind])\n",
        "\n",
        "plt.title(\"Validation Curve with Decision Tree\")\n",
        "plt.xlabel(\"Round\")\n",
        "plt.ylabel(\"Mean accuracy Score\")\n",
        "plt.plot(np.arange(2,120,10,dtype=int),means)"
      ],
      "metadata": {
        "colab": {
          "base_uri": "https://localhost:8080/",
          "height": 347
        },
        "id": "ME2UStm-Ee6n",
        "outputId": "385fd3bf-0459-4d22-f87a-c9beaa878254"
      },
      "execution_count": 21,
      "outputs": [
        {
          "output_type": "stream",
          "name": "stdout",
          "text": [
            "Max Accuracy :  0.9307588075880759\n",
            "Mean Accuracy :  0.9103083244587616\n"
          ]
        },
        {
          "output_type": "execute_result",
          "data": {
            "text/plain": [
              "[<matplotlib.lines.Line2D at 0x7ff042f7df10>]"
            ]
          },
          "metadata": {},
          "execution_count": 21
        },
        {
          "output_type": "display_data",
          "data": {
            "text/plain": [
              "<Figure size 432x288 with 1 Axes>"
            ],
            "image/png": "[encoded data removed]"
          },
          "metadata": {
            "needs_background": "light"
          }
        }
      ]
    },
    {
      "cell_type": "markdown",
      "source": [
        "RGB with ISO"
      ],
      "metadata": {
        "id": "GwfFBOzuEPFa"
      }
    },
    {
      "cell_type": "code",
      "source": [
        "df=pd.read_csv(\"drive/My Drive/Final Year Research/Dataset/Oneplus 5T/data_files/rgbarray.csv\")\n",
        "\n",
        "df['iso']=metadata['iso']\n",
        "X=df\n",
        "Y=labels\n",
        "\n",
        "#standardize x and y\n",
        "scaler = StandardScaler()\n",
        "X=scaler.fit_transform(X)\n",
        "\n",
        "from sklearn import tree\n",
        "#clf = make_pipeline(StandardScaler(), tree.DecisionTreeClassifier(random_state=rs))\n",
        "clf = tree.DecisionTreeClassifier(random_state=rs)\n",
        "\n",
        "scores = cross_val_score(clf, X, Y, cv=80)\n",
        "#print(\"%0.2f accuracy with a standard deviation of %0.2f\" % (scores.mean(), scores.std()))\n",
        "\n",
        "means=[cross_val_score(clf, X, Y, cv=i).mean() for i in range(2,120,10)]\n",
        "stds=[cross_val_score(clf, X, Y, cv=i).std() for i in range(2,120,10)]\n",
        "i=1\n",
        "max=means[0]\n",
        "ind=0\n",
        "while i<len(means):\n",
        "  if(max<means[i]):\n",
        "    max=means[i]\n",
        "    ind=i\n",
        "  i+=1\n",
        "\n",
        "print(\"Max Accuracy : \",max)\n",
        "print(\"Mean Accuracy : \",mean(means))\n",
        "#print(\"Max Accuracy : \",means[ind])\n",
        "\n",
        "plt.title(\"Validation Curve with Decision Tree\")\n",
        "plt.xlabel(\"Round\")\n",
        "plt.ylabel(\"Mean accuracy Score\")\n",
        "plt.plot(np.arange(2,120,10,dtype=int),means)"
      ],
      "metadata": {
        "colab": {
          "base_uri": "https://localhost:8080/",
          "height": 347
        },
        "id": "QxlylFi0EeSO",
        "outputId": "376cc7b0-3e15-4898-a0f8-8b2987377df8"
      },
      "execution_count": 22,
      "outputs": [
        {
          "output_type": "stream",
          "name": "stdout",
          "text": [
            "Max Accuracy :  0.8715447154471545\n",
            "Mean Accuracy :  0.8405076188587804\n"
          ]
        },
        {
          "output_type": "execute_result",
          "data": {
            "text/plain": [
              "[<matplotlib.lines.Line2D at 0x7ff042f705d0>]"
            ]
          },
          "metadata": {},
          "execution_count": 22
        },
        {
          "output_type": "display_data",
          "data": {
            "text/plain": [
              "<Figure size 432x288 with 1 Axes>"
            ],
            "image/png": "[encoded data removed]"
          },
          "metadata": {
            "needs_background": "light"
          }
        }
      ]
    },
    {
      "cell_type": "markdown",
      "source": [
        "RGB + All 4 metadata"
      ],
      "metadata": {
        "id": "KvrIJ1CbERY_"
      }
    },
    {
      "cell_type": "code",
      "source": [
        "df=pd.read_csv(\"drive/My Drive/Final Year Research/Dataset/Oneplus 5T/data_files/rgbarray.csv\")\n",
        "\n",
        "df['brightness']=metadata['brightness']\n",
        "df['shutter_speed']=metadata['shutter_speed']\n",
        "df['exposure_time']=metadata['exposure_time']\n",
        "df['iso']=metadata['iso']\n",
        "\n",
        "X=df\n",
        "Y=labels\n",
        "\n",
        "#standardize x and y\n",
        "scaler = StandardScaler()\n",
        "X=scaler.fit_transform(X)\n",
        "\n",
        "from sklearn import tree\n",
        "#clf = make_pipeline(StandardScaler(), tree.DecisionTreeClassifier(random_state=rs))\n",
        "clf = tree.DecisionTreeClassifier(random_state=rs)\n",
        "\n",
        "scores = cross_val_score(clf, X, Y, cv=80)\n",
        "#print(\"%0.2f accuracy with a standard deviation of %0.2f\" % (scores.mean(), scores.std()))\n",
        "\n",
        "means=[cross_val_score(clf, X, Y, cv=i).mean() for i in range(2,120,10)]\n",
        "stds=[cross_val_score(clf, X, Y, cv=i).std() for i in range(2,120,10)]\n",
        "i=1\n",
        "max=means[0]\n",
        "ind=0\n",
        "while i<len(means):\n",
        "  if(max<means[i]):\n",
        "    max=means[i]\n",
        "    ind=i\n",
        "  i+=1\n",
        "\n",
        "print(\"Max Accuracy : \",max)\n",
        "print(\"Mean Accuracy : \",mean(means))\n",
        "#print(\"Max Accuracy : \",means[ind])\n",
        "\n",
        "plt.title(\"Validation Curve with Decision Tree\")\n",
        "plt.xlabel(\"Round\")\n",
        "plt.ylabel(\"Mean accuracy Score\")\n",
        "plt.plot(np.arange(2,120,10,dtype=int),means)"
      ],
      "metadata": {
        "colab": {
          "base_uri": "https://localhost:8080/",
          "height": 347
        },
        "id": "OfE2Izz3EdpJ",
        "outputId": "04faa287-ead4-460e-b4c1-13fc5daeefee"
      },
      "execution_count": 23,
      "outputs": [
        {
          "output_type": "stream",
          "name": "stdout",
          "text": [
            "Max Accuracy :  0.961111111111111\n",
            "Mean Accuracy :  0.9514026324700396\n"
          ]
        },
        {
          "output_type": "execute_result",
          "data": {
            "text/plain": [
              "[<matplotlib.lines.Line2D at 0x7ff042ee5190>]"
            ]
          },
          "metadata": {},
          "execution_count": 23
        },
        {
          "output_type": "display_data",
          "data": {
            "text/plain": [
              "<Figure size 432x288 with 1 Axes>"
            ],
            "image/png": "[encoded data removed]"
          },
          "metadata": {
            "needs_background": "light"
          }
        }
      ]
    },
    {
      "cell_type": "markdown",
      "source": [
        "RGB + ALL 3 metadata( exclude ISO)"
      ],
      "metadata": {
        "id": "uH_NpE9KEXk8"
      }
    },
    {
      "cell_type": "code",
      "source": [
        "df=pd.read_csv(\"drive/My Drive/Final Year Research/Dataset/Oneplus 5T/data_files/rgbarray.csv\")\n",
        "\n",
        "df['brightness']=metadata['brightness']\n",
        "df['shutter_speed']=metadata['shutter_speed']\n",
        "df['exposure_time']=metadata['exposure_time']\n",
        "X=df\n",
        "Y=labels\n",
        "\n",
        "#standardize x and y\n",
        "scaler = StandardScaler()\n",
        "X=scaler.fit_transform(X)\n",
        "\n",
        "from sklearn import tree\n",
        "#clf = make_pipeline(StandardScaler(), tree.DecisionTreeClassifier(random_state=rs))\n",
        "clf = tree.DecisionTreeClassifier(random_state=rs)\n",
        "\n",
        "scores = cross_val_score(clf, X, Y, cv=80)\n",
        "#print(\"%0.2f accuracy with a standard deviation of %0.2f\" % (scores.mean(), scores.std()))\n",
        "\n",
        "means=[cross_val_score(clf, X, Y, cv=i).mean() for i in range(2,120,10)]\n",
        "stds=[cross_val_score(clf, X, Y, cv=i).std() for i in range(2,120,10)]\n",
        "i=1\n",
        "max=means[0]\n",
        "ind=0\n",
        "while i<len(means):\n",
        "  if(max<means[i]):\n",
        "    max=means[i]\n",
        "    ind=i\n",
        "  i+=1\n",
        "\n",
        "print(\"Max Accuracy : \",max)\n",
        "print(\"Mean Accuracy : \",mean(means))\n",
        "#print(\"Max Accuracy : \",means[ind])\n",
        "\n",
        "plt.title(\"Validation Curve with Decision Tree\")\n",
        "plt.xlabel(\"Round\")\n",
        "plt.ylabel(\"Mean accuracy Score\")\n",
        "plt.plot(np.arange(2,120,10,dtype=int),means)"
      ],
      "metadata": {
        "colab": {
          "base_uri": "https://localhost:8080/",
          "height": 347
        },
        "id": "m5PgZCv1EJfh",
        "outputId": "b16595b6-1954-4332-9064-6354a801ac63"
      },
      "execution_count": 24,
      "outputs": [
        {
          "output_type": "stream",
          "name": "stdout",
          "text": [
            "Max Accuracy :  0.9573170731707317\n",
            "Mean Accuracy :  0.9461624342353523\n"
          ]
        },
        {
          "output_type": "execute_result",
          "data": {
            "text/plain": [
              "[<matplotlib.lines.Line2D at 0x7ff042e58990>]"
            ]
          },
          "metadata": {},
          "execution_count": 24
        },
        {
          "output_type": "display_data",
          "data": {
            "text/plain": [
              "<Figure size 432x288 with 1 Axes>"
            ],
            "image/png": "[encoded data removed]"
          },
          "metadata": {
            "needs_background": "light"
          }
        }
      ]
    },
    {
      "cell_type": "markdown",
      "source": [
        "RGB+Shutter speed+Exposure time"
      ],
      "metadata": {
        "id": "_SnnYbQ4Gpx6"
      }
    },
    {
      "cell_type": "code",
      "source": [
        "df=pd.read_csv(\"drive/My Drive/Final Year Research/Dataset/Oneplus 5T/data_files/rgbarray.csv\")\n",
        "\n",
        "df['shutter_speed']=metadata['shutter_speed']\n",
        "df['exposure_time']=metadata['exposure_time']\n",
        "#df['iso']=metadata['iso']\n",
        "\n",
        "X=df\n",
        "Y=labels\n",
        "\n",
        "from sklearn import tree\n",
        "#clf = make_pipeline(StandardScaler(), tree.DecisionTreeClassifier(random_state=rs))\n",
        "clf = tree.DecisionTreeClassifier(random_state=rs)\n",
        "\n",
        "scores = cross_val_score(clf, X, Y, cv=80)\n",
        "#print(\"%0.2f accuracy with a standard deviation of %0.2f\" % (scores.mean(), scores.std()))\n",
        "\n",
        "means=[cross_val_score(clf, X, Y, cv=i).mean() for i in range(2,120,10)]\n",
        "stds=[cross_val_score(clf, X, Y, cv=i).std() for i in range(2,120,10)]\n",
        "i=1\n",
        "max=means[0]\n",
        "ind=0\n",
        "while i<len(means):\n",
        "  if(max<means[i]):\n",
        "    max=means[i]\n",
        "    ind=i\n",
        "  i+=1\n",
        "\n",
        "print(\"Max Accuracy : \",max)\n",
        "print(\"Mean Accuracy : \",mean(means))\n",
        "#print(\"Max Accuracy : \",means[ind])\n",
        "print(\"Ind \",ind)\n",
        "\n",
        "plt.title(\"Validation Curve with Decision Tree\")\n",
        "plt.xlabel(\"Round\")\n",
        "plt.ylabel(\"Mean accuracy Score\")\n",
        "plt.plot(np.arange(2,120,10,dtype=int),means)"
      ],
      "metadata": {
        "colab": {
          "base_uri": "https://localhost:8080/",
          "height": 364
        },
        "id": "ZQYa_cuxGtM2",
        "outputId": "92f39007-cbc2-488c-a063-c654e21c1ee0"
      },
      "execution_count": 27,
      "outputs": [
        {
          "output_type": "stream",
          "name": "stdout",
          "text": [
            "Max Accuracy :  0.9319783197831978\n",
            "Mean Accuracy :  0.9076537013422691\n",
            "Ind  8\n"
          ]
        },
        {
          "output_type": "execute_result",
          "data": {
            "text/plain": [
              "[<matplotlib.lines.Line2D at 0x7ff043633150>]"
            ]
          },
          "metadata": {},
          "execution_count": 27
        },
        {
          "output_type": "display_data",
          "data": {
            "text/plain": [
              "<Figure size 432x288 with 1 Axes>"
            ],
            "image/png": "[encoded data removed]"
          },
          "metadata": {
            "needs_background": "light"
          }
        }
      ]
    },
    {
      "cell_type": "markdown",
      "source": [
        "rgb+shutter speed+exposure time"
      ],
      "metadata": {
        "id": "2wdOODIfHrtm"
      }
    },
    {
      "cell_type": "code",
      "source": [
        "from sklearn.model_selection import cross_val_predict\n",
        "from sklearn import metrics\n",
        "#from above results, best split is 1/80=0.0125\n",
        "testsize=1/90\n",
        "print(testsize*Y.size)\n",
        "X_train, X_test, y_train, y_test = tts(X, Y, test_size=testsize, random_state=rs)\n",
        "clf.fit(X_train,y_train)\n",
        "y_pred = clf.predict(X_test)\n",
        "print(\"Dtree Accuracy:\",metrics.accuracy_score(y_test, y_pred)*100,\"%\")\n",
        "#y_pred.size\n",
        "\n",
        "# Save the model as a pickle in a file\n",
        "joblib.dump(clf, 'drive/My Drive/Final Year Research/Dataset/Oneplus 5T/data_files/dtreemodel.pkl')"
      ],
      "metadata": {
        "colab": {
          "base_uri": "https://localhost:8080/"
        },
        "id": "uv3eiUdYH0jV",
        "outputId": "e4af63e8-4236-4c8a-c709-bac4bb2312d3"
      },
      "execution_count": 13,
      "outputs": [
        {
          "output_type": "stream",
          "name": "stdout",
          "text": [
            "8.622222222222222\n",
            "Dtree Accuracy: 100.0 %\n"
          ]
        },
        {
          "output_type": "execute_result",
          "data": {
            "text/plain": [
              "['drive/My Drive/Final Year Research/Dataset/Oneplus 5T/data_files/dtreemodel.pkl']"
            ]
          },
          "metadata": {},
          "execution_count": 13
        }
      ]
    },
    {
      "cell_type": "code",
      "source": [
        "# Load the model from the file\n",
        "model = joblib.load('drive/My Drive/Final Year Research/Dataset/Oneplus 5T/data_files/dtreemodel.pkl')\n",
        " \n",
        "# Use the loaded model to make predictions\n",
        "prd=model.predict(X_test)\n",
        "\n",
        "print(\"Dtree Accuracy:\",metrics.accuracy_score(y_test, prd)*100,\"%\")"
      ],
      "metadata": {
        "id": "rdFcvwhyJGDI",
        "outputId": "f389f690-45ff-491f-d772-f8ee6fc50d2a",
        "colab": {
          "base_uri": "https://localhost:8080/"
        }
      },
      "execution_count": 14,
      "outputs": [
        {
          "output_type": "stream",
          "name": "stdout",
          "text": [
            "Dtree Accuracy: 100.0 %\n"
          ]
        }
      ]
    }
  ]
}